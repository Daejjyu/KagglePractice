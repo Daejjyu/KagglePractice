{
 "cells": [
  {
   "cell_type": "code",
   "execution_count": null,
   "metadata": {},
   "outputs": [],
   "source": [
    "#import & data read\n",
    "import numpy as np\n",
    "import matplotlib.pyplot as plt\n",
    "import pandas as pd\n",
    "import matplotlib as mpl\n",
    "import matplotlib.pyplot as plt\n",
    "import seaborn as sns\n",
    "\n",
    "dataT = pd.read_csv('P2_Dataset/accepted_2007_to_2018Q4.csv')"
   ]
  },
  {
   "cell_type": "code",
   "execution_count": null,
   "metadata": {},
   "outputs": [],
   "source": [
    "dataT.shape"
   ]
  },
  {
   "cell_type": "code",
   "execution_count": null,
   "metadata": {},
   "outputs": [],
   "source": [
    "#필요한 컬럼들\n",
    "schema_col = ['loan_amnt','funded_amnt','funded_amnt_inv','int_rate','installment','grade','sub_grade','emp_length','home_ownership','annual_inc','verification_status','loan_status','purpose','dti','delinq_2yrs','inq_last_6mths','open_acc','pub_rec','revol_bal','revol_util','total_acc','initial_list_status','total_pymnt','total_pymnt_inv','total_rec_prncp','total_rec_int','total_rec_late_fee','recoveries','collection_recovery_fee','last_pymnt_amnt','collections_12_mths_ex_med','acc_now_delinq','chargeoff_within_12_mths','delinq_amnt','pub_rec_bankruptcies','tax_liens']\n",
    "\n",
    "X_col = ['loan_amnt','funded_amnt','funded_amnt_inv','int_rate','installment','grade','sub_grade','emp_length','home_ownership','annual_inc','verification_status','purpose','dti','delinq_2yrs','inq_last_6mths','open_acc','pub_rec','revol_bal','revol_util','total_acc','initial_list_status','total_pymnt','total_pymnt_inv','total_rec_prncp','total_rec_int','total_rec_late_fee','recoveries','collection_recovery_fee','last_pymnt_amnt','collections_12_mths_ex_med','acc_now_delinq','chargeoff_within_12_mths','delinq_amnt','pub_rec_bankruptcies','tax_liens']\n",
    "\n",
    "cate_col= ['grade','sub_grade','emp_length','home_ownership','verification_status','loan_status','purpose','initial_list_status']\n",
    "\n",
    "print(len(schema_col))\n",
    "print(len(cate_col))"
   ]
  },
  {
   "cell_type": "code",
   "execution_count": null,
   "metadata": {},
   "outputs": [],
   "source": [
    "#data 만들기\n",
    "dataT1 = dataT[schema_col]\n",
    "print(dataT1.shape)\n",
    "dataT1 = dataT1[(dataT1['loan_status']=='Fully Paid')|(dataT1['loan_status']=='Charged Off')]\n",
    "dataT1['loan_status'].replace(to_replace = {'Fully Paid' : -1,'Charged Off' : 1},inplace=True)\n",
    "print(dataT1.shape)"
   ]
  },
  {
   "cell_type": "code",
   "execution_count": null,
   "metadata": {},
   "outputs": [],
   "source": [
    "dataT1['loan_status'].value_counts()"
   ]
  },
  {
   "cell_type": "code",
   "execution_count": null,
   "metadata": {},
   "outputs": [],
   "source": [
    "from imblearn.under_sampling import RandomUnderSampler\n",
    "\n",
    "def under_sampling(df,a,b):# a:b\n",
    "    X = df[df.columns.difference(['loan_status'])]\n",
    "    y = df['loan_status']\n",
    "    size = len(np.where(df['loan_status']==1)[0])# label 1의 size\n",
    "    rus = RandomUnderSampler(sampling_strategy={1: int(size), -1: int(size*b/a)},random_state=0)\n",
    "    rus.fit(X, y)\n",
    "    X_resampled, y_resampled = rus.fit_resample(X, y)\n",
    "    \n",
    "    X_resampled['loan_status'] = y_resampled\n",
    "    print(X_resampled['loan_status'].value_counts())\n",
    "    return X_resampled\n",
    "\n",
    "dataT2 = dataT1.copy()\n",
    "dataT2 = under_sampling(dataT2,5,5)\n",
    "print(dataT2.shape)"
   ]
  },
  {
   "cell_type": "code",
   "execution_count": null,
   "metadata": {},
   "outputs": [],
   "source": [
    "np.where(dataT2['loan_status']==1)"
   ]
  },
  {
   "cell_type": "code",
   "execution_count": null,
   "metadata": {},
   "outputs": [],
   "source": [
    "for i in range(1,11):\n",
    "    t1 = dataT2[0+5000*i:5000+5000*i]\n",
    "    tt1 = dataT2[270000+5000*i:275000+5000*i]\n",
    "    test1 = pd.concat([t1,tt1])\n",
    "    test1['loan_status'].replace(to_replace = { -1:'Fully Paid', 1:'Charged Off'},inplace=True)\n",
    "    print(test1['loan_status'].value_counts())\n",
    "    test1.to_csv(\"LC_test_%s.csv\" % (i), index=False,encoding='utf-8-sig')"
   ]
  }
 ],
 "metadata": {
  "kernelspec": {
   "display_name": "Python 3",
   "language": "python",
   "name": "python3"
  },
  "language_info": {
   "codemirror_mode": {
    "name": "ipython",
    "version": 3
   },
   "file_extension": ".py",
   "mimetype": "text/x-python",
   "name": "python",
   "nbconvert_exporter": "python",
   "pygments_lexer": "ipython3",
   "version": "3.7.6"
  },
  "varInspector": {
   "cols": {
    "lenName": 16,
    "lenType": 16,
    "lenVar": 40
   },
   "kernels_config": {
    "python": {
     "delete_cmd_postfix": "",
     "delete_cmd_prefix": "del ",
     "library": "var_list.py",
     "varRefreshCmd": "print(var_dic_list())"
    },
    "r": {
     "delete_cmd_postfix": ") ",
     "delete_cmd_prefix": "rm(",
     "library": "var_list.r",
     "varRefreshCmd": "cat(var_dic_list()) "
    }
   },
   "types_to_exclude": [
    "module",
    "function",
    "builtin_function_or_method",
    "instance",
    "_Feature"
   ],
   "window_display": false
  }
 },
 "nbformat": 4,
 "nbformat_minor": 4
}
