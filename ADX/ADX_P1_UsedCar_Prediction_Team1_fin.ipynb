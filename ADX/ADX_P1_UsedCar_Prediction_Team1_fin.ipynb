{
 "cells": [
  {
   "cell_type": "markdown",
   "metadata": {
    "id": "FCzqQv-lpXNK"
   },
   "source": [
    "# Project 1. 중고차 시세 예측\n",
    "**과목명:  응용데이터애널리틱스 (Applied Data Analytics)** \\\\\n",
    "**학수번호:  INE4108** \\\\\n",
    "**교강사:  송재욱 교수 (산업공학과)** \\\\\n",
    " \\\\\n",
    "***"
   ]
  },
  {
   "cell_type": "markdown",
   "metadata": {
    "id": "21F0poqDnriY"
   },
   "source": [
    "## 1. Environmental Set-up & Data Loading"
   ]
  },
  {
   "cell_type": "code",
   "execution_count": 1,
   "metadata": {
    "colab": {
     "base_uri": "https://localhost:8080/",
     "height": 348
    },
    "id": "16gjgF_8nmu_",
    "outputId": "424f7362-537f-43b4-96d3-fa9dd7808281"
   },
   "outputs": [],
   "source": [
    "import pandas as pd\n",
    "import numpy as np\n",
    "import matplotlib.pyplot as plt\n",
    "\n",
    "df = pd.read_csv('./Kia_dataset.csv', encoding ='cp949')  # 한글 Encoding 문제로 encoding = 'cp949'\n",
    "\n",
    "# 시스템 구현을 위한 Test Set 샘플\n",
    "df_test = pd.read_csv('./Kia_testset_sample2.csv', encoding ='cp949')  # 한글 Encoding 문제로 encoding = 'cp949'|"
   ]
  },
  {
   "cell_type": "markdown",
   "metadata": {
    "id": "rv3tA_28ovjx"
   },
   "source": [
    "## 2. Modelling\n",
    "- df를 사용하여 예측모형 수립\n",
    "- 상세 사항은 업로드 된 비디오 참고"
   ]
  },
  {
   "cell_type": "code",
   "execution_count": 2,
   "metadata": {
    "id": "DMoIHQ5NLgqR"
   },
   "outputs": [],
   "source": [
    "#############################################################\n",
    "# 목차\n",
    "#1. Null Value 처리\n",
    "#2. 변수 유형 파악 및 올바른 데이터 타입 설정\n",
    "#3. 교환,판금,옵션 변수 차원 축소\n",
    "#4. 이상치 처리\n",
    "#5. 파생변수 생성\n",
    "#6. 범주형 변수 인코딩\n",
    "#7. 수치형 변수 정규화\n",
    "#8. 파라미터 서치\n",
    "#9. 랜덤 포레스트 모델 결과 및 변수 중요도 파악\n",
    "#############################################################"
   ]
  },
  {
   "cell_type": "code",
   "execution_count": 3,
   "metadata": {
    "id": "z4P1C_GdNgS5"
   },
   "outputs": [],
   "source": [
    "%matplotlib inline\n",
    "pd.options.display.max_rows = 1000\n",
    "import seaborn as sns\n",
    "import missingno as msno \n",
    "\n",
    "\n",
    "#변수형에 따라 전처리하기 위해 list 생성\n",
    "categorical_var_list = [\n",
    "    'GOODNO', 'CARNM', 'CHASNO', 'YEAR','YEARCHK', 'INNEEXPOCLASCD_YN', 'MISSNM', 'FUELNM', 'COLOR',\n",
    "    'OWNECLASNM', 'USEUSENM', 'MF_KEY', 'MJ_MODEL_KEY', 'DT_MODEL_KEY', 'MJ_GRADE_KEY',\n",
    "    'DT_GRADE_KEY', 'NC_GRADE_KEY'\n",
    "]\n",
    "\n",
    "numeric_var_list = [\n",
    "    'SHIPPING_PRICE', 'SUCCPRIC', 'TRAVDIST', 'EXHA','NEWCARPRIC','NC_GRADE_PRICE',\n",
    "    'BONET', 'FRONT_LEFT_FENDER', 'FRONT_RIGHT_FENDER',\n",
    "    'FRONT_LEFT_DOOR', 'FRONT_RIGHT_DOOR', 'BACK_LEFT_DOOR', 'BACK_RIGHT_DOOR', 'TRUNK',\n",
    "    'FRONT_PANNEL', 'LEFT_STEP', 'RIGHT_STEP', 'LEFT_FILER_A', 'RIGHT_FILER_A',\n",
    "    'LEFT_FILER_B', 'RIGHT_FILER_B', 'LEFT_FILER_C', 'RIGHT_FILER_C', 'LEFT_REAR_FENDER',\n",
    "    'RIGHT_REAR_FENDER', 'BACK_PANEL1', 'LEFT_INSIDE_PANEL', 'RIGHT_INSIDE_PANEL',\n",
    "    'LEFT_WHEEL_HOUSE', 'RIGHT_WHEEL_HOUSE', 'LEFT_INSIDE_WHEEL_HOUSE',\n",
    "    'RIGHT_INSIDE_WHEEL_HOUSE', 'LEFT_REAR_WHEEL_HOUSE', 'RIGHT_REAR_WHEEL_HOUSE',\n",
    "    'TRUNK_FLOOR', 'DASH_PANEL', 'SHEET_PANEL', 'SIDE_MEMBER_FRAME', 'LEFT_QUARTER',\n",
    "    'RIGHT_QUARTER', 'FLOOR_PANEL', 'LEFT_SIDE_PANEL', 'RIGHT_SIDE_PANEL',\n",
    "    'LEFT_REAR_CORNER_PANEL', 'RIGHT_REAR_CORNER_PANEL', 'BACK_PANEL2',\n",
    "    'LEFT_CORNER_PANEL', 'RIGHT_CORNER_PANEL', 'LEFT_SKIRT_PANEL', 'RIGHT_SKIRT_PANEL',\n",
    "    'SIDE_MEMBER_FRAME2', 'LEFT_INSIDE_SHEETING', 'RIGHT_INSIDE_SHEETING',\n",
    "    'LEFT_WHEEL_HOUSE_SHEETING', 'RIGHT_WHEEL_HOUSE_SHEETING',\n",
    "    'LEFT_REAR_INSIDE_PANEL_SHEETING', 'RIGHT_REAR_INSIDE_PANEL_SHEETING',\n",
    "    'LEFT_REAR_WHEEL_HOUSE_SHEETING', 'RIGHT_REAR_WHEEL_HOUSE_SHEETING',\n",
    "    'TRUNK_FLOOR_SHEETING', 'DASH_PANEL_SHEETING', 'SHEET_BACK_PANEL_SHEETING',\n",
    "    'SIDE_MEMBER_FRAME_SHEETING', 'FLOOR_PANEL_SHEETING', 'LEFT_SIDE_PANEL_SHEETING',\n",
    "    'RIGHT_SIDE_PANEL_SHEETING', 'FLOODING', 'TOTAL_LOSS', 'JOINCAR', 'NOTAVAILABLE',\n",
    "    'ABS', 'AB2', 'NAVIGATION', 'VDC', 'SMARTKEY', 'SUNLOOPPANORAMA', 'SUNLOOPCOMMON',\n",
    "    'SUNLOOPDUAL', 'DIS', 'TCS', 'AB1', 'ETC', 'AV', 'EPS', 'ECS'\n",
    "]\n",
    "\n",
    "missing_list =[\n",
    "    'SHIPPING_PRICE', 'SUCCPRIC', 'TRAVDIST', 'EXHA','NC_GRADE_PRICE', 'NEWCARPRIC', 'MF_KEY', 'MJ_MODEL_KEY', 'DT_MODEL_KEY', 'MJ_GRADE_KEY','DT_GRADE_KEY','NC_GRADE_KEY','SHIPPING_PRICE'\n",
    "]\n"
   ]
  },
  {
   "cell_type": "code",
   "execution_count": 4,
   "metadata": {
    "id": "gH05eZ-MNW0B"
   },
   "outputs": [],
   "source": [
    "#1. Null Value 처리\n",
    "\n",
    "#1-1 각 컬럼별로 null 값의 비율을 확인\n",
    "def NullFunc(df_):\n",
    "    #0값 결측값으로 변환\n",
    "    for i in missing_list:\n",
    "        df_[i] = df_[i].replace(0, np.nan)\n",
    "        df_[i] = df_[i].replace('0', np.nan)\n",
    "\n",
    "    for i in df_.columns:\n",
    "        X_i = df_.loc[:, i]\n",
    "        notNullRatio = X_i.dropna().shape[0] / df_.shape[0]\n",
    "        if (notNullRatio != 1):\n",
    "            print(\"column {} have {} null value\".format(i, df_.shape[0]-X_i.dropna().shape[0]),\n",
    "                  '\\n')\n",
    "            #del_col_list.append(i) 결측값 많을 시 추가\n",
    "    print(msno.matrix(df_))\n",
    "    print(df_.isnull().sum())\n",
    "    return df_"
   ]
  },
  {
   "cell_type": "code",
   "execution_count": 5,
   "metadata": {
    "id": "H0x7-7ORRRhW"
   },
   "outputs": [],
   "source": [
    "#2. 변수 유형 파악 및 올바른 데이터 타입 설정\n",
    "\n",
    "import datetime\n",
    "import math\n",
    "def ChangeType(df_):\n",
    "    #2-1 categoric, numeric\n",
    "    for i in categorical_var_list:\n",
    "           df_[i]=df_[i].astype('object', errors='ignore')\n",
    "    for i in numeric_var_list:\n",
    "           df_[i]=df_[i].astype('int64', errors='ignore')\n",
    "\n",
    "    #2-2 datetime\n",
    "    df_['SUCCYMD'] = pd.to_datetime(df_['SUCCYMD'], format='%Y%m%d') \n",
    "    df_['CARREGIYMD'] = pd.to_datetime(df_['CARREGIYMD'], format='%Y%m%d') \n",
    "\n",
    "    #2-3 값 대체\n",
    "    #YEARCHK (Y, N) -> (1, 0)\n",
    "    for i in np.where(df_['YEARCHK']=='Y'):\n",
    "         df_['YEARCHK'][i]=1\n",
    "    for i in np.where(df_['YEARCHK']=='N'):\n",
    "         df_['YEARCHK'][i]=0\n",
    "    \n",
    "    #INNEEXPOCLASCD_YN (O, X) -> (1, 0)\n",
    "    for i in np.where(df_['INNEEXPOCLASCD_YN']=='O'):\n",
    "         df_['INNEEXPOCLASCD_YN'][i]=1\n",
    "    for i in np.where(df_['INNEEXPOCLASCD_YN']=='X'):\n",
    "         df_['INNEEXPOCLASCD_YN'][i]=0\n",
    "\n",
    "    print(df_.dtypes)\n",
    "    return df_"
   ]
  },
  {
   "cell_type": "code",
   "execution_count": 6,
   "metadata": {
    "id": "spT12uzMnm_G"
   },
   "outputs": [],
   "source": [
    "#3. 교환,판금,옵션 변수 차원 축소\n",
    "\n",
    "#3-1. 사고 때문에 발생한 교환 및 판금 변수 들의 차원 축소\n",
    "#전손, 침수 등의 심각한 영향을 끼치는 요인 통합\n",
    "def cal_accidents(df):\n",
    "    accident1 = []\n",
    "    accident2 = []\n",
    "    accident3 = []\n",
    "    accident4 = []\n",
    "    ### 무사고 or 유사고\n",
    "    accident1 = np.array(df.loc[:,'BONET']+df.loc[:,'FRONT_LEFT_FENDER']\n",
    "                     +df.loc[:,'FRONT_RIGHT_FENDER']+df.loc[:,'FRONT_LEFT_DOOR']\n",
    "                     +df.loc[:,'FRONT_RIGHT_DOOR']+df.loc[:,'BACK_LEFT_DOOR']\n",
    "                     +df.loc[:,'BACK_RIGHT_DOOR']+df.loc[:,'TRUNK'])\n",
    "    ### 심각한 유사고\n",
    "    accident2 = np.array(df.loc[:,'FRONT_PANNEL']+df.loc[:,'LEFT_STEP']\n",
    "                     +df.loc[:,'RIGHT_STEP']+df.loc[:,'LEFT_FILER_A']\n",
    "                     +df.loc[:,'RIGHT_FILER_A']+df.loc[:,'LEFT_FILER_B']\n",
    "                     +df.loc[:,'RIGHT_FILER_B']+df.loc[:,'LEFT_FILER_C']\n",
    "                     +df.loc[:,'RIGHT_FILER_C']+df.loc[:,'LEFT_REAR_FENDER']\n",
    "                     +df.loc[:,'RIGHT_REAR_FENDER']+df.loc[:,'BACK_PANEL1']\n",
    "                     +df.loc[:,'LEFT_QUARTER']+df.loc[:,'LEFT_FILER_C']\n",
    "                     +df.loc[:,'LEFT_REAR_CORNER_PANEL']+df.loc[:,'RIGHT_REAR_CORNER_PANEL']\n",
    "                     +df.loc[:,'BACK_PANEL2']+df.loc[:,'LEFT_CORNER_PANEL']\n",
    "                     +df.loc[:,'RIGHT_CORNER_PANEL']+df.loc[:,'LEFT_SKIRT_PANEL']\n",
    "                     +df.loc[:,'RIGHT_SKIRT_PANEL']+df.loc[:,'SIDE_MEMBER_FRAME2'])\n",
    "    ### 판금도 가능했던 심각한 유사고\n",
    "    accident3 = np.array(df.loc[:,'LEFT_INSIDE_PANEL']+df.loc[:,'RIGHT_INSIDE_PANEL']\n",
    "                     +df.loc[:,'LEFT_WHEEL_HOUSE']+df.loc[:,'RIGHT_WHEEL_HOUSE']\n",
    "                     +df.loc[:,'LEFT_INSIDE_WHEEL_HOUSE']+df.loc[:,'RIGHT_INSIDE_WHEEL_HOUSE']\n",
    "                     +df.loc[:,'LEFT_REAR_WHEEL_HOUSE']+df.loc[:,'RIGHT_REAR_WHEEL_HOUSE']\n",
    "                     +df.loc[:,'TRUNK_FLOOR']+df.loc[:,'DASH_PANEL']\n",
    "                     +df.loc[:,'SHEET_PANEL']+df.loc[:,'SIDE_MEMBER_FRAME']\n",
    "                     +df.loc[:,'FLOOR_PANEL']+df.loc[:,'LEFT_SIDE_PANEL']\n",
    "                     +df.loc[:,'RIGHT_SIDE_PANEL'])\n",
    "    ###사고는 컸지만 수리가 가벼움\n",
    "    accident4 =  np.array(df.loc[:,'LEFT_INSIDE_SHEETING']+df.loc[:,'RIGHT_INSIDE_SHEETING']\n",
    "                     +df.loc[:,'LEFT_WHEEL_HOUSE_SHEETING']+df.loc[:,'RIGHT_WHEEL_HOUSE_SHEETING']\n",
    "                     +df.loc[:,'LEFT_REAR_INSIDE_PANEL_SHEETING']+df.loc[:,'RIGHT_REAR_INSIDE_PANEL_SHEETING']\n",
    "                     +df.loc[:,'LEFT_REAR_WHEEL_HOUSE_SHEETING']+df.loc[:,'RIGHT_REAR_WHEEL_HOUSE_SHEETING']\n",
    "                     +df.loc[:,'TRUNK_FLOOR_SHEETING']+df.loc[:,'DASH_PANEL_SHEETING']\n",
    "                     +df.loc[:,'SHEET_BACK_PANEL_SHEETING']+df.loc[:,'SIDE_MEMBER_FRAME_SHEETING']\n",
    "                     +df.loc[:,'FLOOR_PANEL_SHEETING']+df.loc[:,'LEFT_SIDE_PANEL_SHEETING']\n",
    "                     +df.loc[:,'RIGHT_SIDE_PANEL_SHEETING'])\n",
    "    \n",
    "    df['ACCI1'] = accident1\n",
    "    df['ACCI2'] = accident2\n",
    "    df['ACCI3'] = accident3\n",
    "    df['ACCI4'] = accident4\n",
    "    \n",
    "    #참수, 전손, 접합, 운행불가는 하나만 존재해도 가격에 심각한 악영향을 끼치는 것으로 판단하여 통합\n",
    "    trash = []\n",
    "    for a,b,c,d in np.array(df[['FLOODING', 'TOTAL_LOSS','JOINCAR','NOTAVAILABLE']]):\n",
    "        if (a + b + c + d) > 0:\n",
    "            trash.append(1)\n",
    "        else:\n",
    "            trash.append(0)\n",
    "     \n",
    "    df['TRASHCAR'] = trash\n",
    "    \n",
    "    return df"
   ]
  },
  {
   "cell_type": "code",
   "execution_count": 7,
   "metadata": {
    "id": "a5NtMdSfLOKU"
   },
   "outputs": [],
   "source": [
    "#3-2. 옵션을 3가지로 분류하여 옵션 수의 총 합으로 차원을 축소\n",
    "#총 3가지의 옵션으로 나눔. 편리, 안전, 운전\n",
    "def cal_options(df):\n",
    "    sun_loop = []\n",
    "    safety_op = []\n",
    "    driving_op = []\n",
    "    comfort_op = []\n",
    "    \n",
    "    for a,b,c in np.array(df[['SUNLOOPPANORAMA', 'SUNLOOPCOMMON','SUNLOOPDUAL']]):\n",
    "        if (a==1) or (b==1) or (c==1):\n",
    "            sun_loop.append(1)\n",
    "        else:\n",
    "            sun_loop.append(0)\n",
    "    \n",
    "    df['SUNLOOP'] = sun_loop\n",
    "    #편리 기능 옵션 합계\n",
    "    comfort_opp = np.array(df.loc[:,'NAVIGATION']+df.loc[:,'SMARTKEY']\n",
    "                     +df.loc[:,'SUNLOOP']+df.loc[:,'ETC']+df.loc[:,'AV'])\n",
    "    #안전 기능 옵션 합계\n",
    "    safety_opp = np.array(df.loc[:,'ABS']+df.loc[:,'AB2']+df.loc[:,'VDC']\n",
    "                     +df.loc[:,'DIS']+df.loc[:,'TCS']+df.loc[:,'AB1'])\n",
    "    #운전 기능 옵션 합계\n",
    "    driving_opp = np.array(df.loc[:,'EPS']+df.loc[:,'ECS'])\n",
    "    \n",
    "    df['SAFETYOP'] = safety_opp\n",
    "    df['DRIVEOP'] = driving_opp\n",
    "    df['COMFORTOP'] = comfort_opp\n",
    "    \n",
    "    return df"
   ]
  },
  {
   "cell_type": "code",
   "execution_count": 8,
   "metadata": {
    "id": "RPP6Okc6LcKi"
   },
   "outputs": [],
   "source": [
    "#4. 이상치 처리\n",
    "\n",
    "#4-1 이상치 처리를 위한 수치형 변수 시각화\n",
    "#['YEAR' 'EXHA', 'TRAVDIST', 'NC_GRADE_PRICE', 'SHIPPING_PRICE', 'NEWCARPRIC', 'SUCCPRIC']\n",
    "def plotHistogram(_df, columns):\n",
    "    if type(columns) != list :\n",
    "        print(\"columns 타입이 리스트가 아닙니다.\")\n",
    "    \n",
    "        return\n",
    "    \n",
    "    for _n, i in enumerate(columns):\n",
    "        df.describe()\n",
    "        fig=plt.figure(figsize=(20,8))\n",
    "        fig.patch.set_facecolor('xkcd:white')\n",
    "\n",
    "        plt.subplot(2,3,_n + 1)\n",
    "        plt.title(i)\n",
    "        df.loc[:,i].hist(bins=50)\n",
    "    plt.show()\n",
    "\n"
   ]
  },
  {
   "cell_type": "code",
   "execution_count": 9,
   "metadata": {
    "colab": {
     "base_uri": "https://localhost:8080/",
     "height": 752
    },
    "id": "scC6rBpzX2iQ",
    "outputId": "90d6d170-550d-4450-8880-8804a41ee5b4"
   },
   "outputs": [
    {
     "data": {
      "image/png": "[encoded data removed]",
      "text/plain": [
       "<Figure size 1440x576 with 1 Axes>"
      ]
     },
     "metadata": {},
     "output_type": "display_data"
    },
    {
     "data": {
      "image/png": "[encoded data removed]",
      "text/plain": [
       "<Figure size 1440x576 with 1 Axes>"
      ]
     },
     "metadata": {},
     "output_type": "display_data"
    },
    {
     "data": {
      "image/png": "[encoded data removed]",
      "text/plain": [
       "<Figure size 1440x576 with 1 Axes>"
      ]
     },
     "metadata": {},
     "output_type": "display_data"
    }
   ],
   "source": [
    "plotHistogram(df, ['YEAR','EXHA', 'TRAVDIST']) "
   ]
  },
  {
   "cell_type": "code",
   "execution_count": 10,
   "metadata": {
    "colab": {
     "base_uri": "https://localhost:8080/",
     "height": 1000
    },
    "id": "uZNYxmmnYIXO",
    "outputId": "17da015d-126f-4c6f-e7c6-f9b52b4266cc"
   },
   "outputs": [
    {
     "data": {
      "image/png": "[encoded data removed]",
      "text/plain": [
       "<Figure size 1440x576 with 1 Axes>"
      ]
     },
     "metadata": {},
     "output_type": "display_data"
    },
    {
     "data": {
      "image/png": "[encoded data removed]",
      "text/plain": [
       "<Figure size 1440x576 with 1 Axes>"
      ]
     },
     "metadata": {},
     "output_type": "display_data"
    },
    {
     "data": {
      "image/png": "[encoded data removed]",
      "text/plain": [
       "<Figure size 1440x576 with 1 Axes>"
      ]
     },
     "metadata": {},
     "output_type": "display_data"
    },
    {
     "data": {
      "image/png": "[encoded data removed]",
      "text/plain": [
       "<Figure size 1440x576 with 1 Axes>"
      ]
     },
     "metadata": {},
     "output_type": "display_data"
    }
   ],
   "source": [
    "plotHistogram(df, ['NEWCARPRIC','SUCCPRIC','SHIPPING_PRICE','NC_GRADE_PRICE'])"
   ]
  },
  {
   "cell_type": "code",
   "execution_count": 11,
   "metadata": {
    "id": "p9Be9M9NcoTd"
   },
   "outputs": [],
   "source": [
    "#4-2 이상치 제거\n",
    "#시각화에서 이상치를 분류하는 기준을 확인\n",
    "def nan_carprice(x):\n",
    "    if x<100000:\n",
    "        return np.nan\n",
    "\n",
    "def remove_outliers(df_):\n",
    "    originDataNum = df_.shape[0]\n",
    "    df_['NEWCARPRIC'] = df_['NEWCARPRIC'].map(nan_carprice)\n",
    "    df_['NEWCARPRIC'].replace(1,np.nan, inplace=True)\n",
    "    #배기량은 하위 1%, 상위 1% outlier 제거\n",
    "    lb_1, ub_1 = np.nanpercentile(df_['EXHA'],[1,99])\n",
    "    #주행거리는 상위 1% outlier 제거\n",
    "    lb_2, ub_2 = np.nanpercentile(df_['TRAVDIST'],[1,99])\n",
    "    #신차등급가격, 출고가, 신차금액은 상위 1% 및 500만원 이하 outlier 제거\n",
    "    #lb_3 = np.where(df_['NC_GRADE_PRICE']<5000000) 해당 값이 없어서 주석 처리\n",
    "    ub_3 = np.nanpercentile(df_['NC_GRADE_PRICE'],99)\n",
    "    lb_4 = np.where(df_['SHIPPING_PRICE']<5000000)\n",
    "    ub_4 = np.nanpercentile(df_['SHIPPING_PRICE'],99)\n",
    "    lb_5 = np.where(df_['NEWCARPRIC']<5000000)\n",
    "    ub_5 = np.nanpercentile(df_['NEWCARPRIC'],99)\n",
    "    #낙찰가는 상위 1% outlier 제거\n",
    "    ub_6 = np.nanpercentile(df_['SUCCPRIC'],99) #############################\n",
    "\n",
    "    outliers = np.where((df_['EXHA']<lb_1)|(df_['EXHA']>ub_1)\n",
    "                       |(df_['TRAVDIST']<lb_2)|(df_['TRAVDIST']>ub_2)\n",
    "                       |(df_['NC_GRADE_PRICE']>ub_3)\n",
    "                       |(df_['SHIPPING_PRICE']<5000000)|(df_['SHIPPING_PRICE']>ub_4)\n",
    "                       |(df_['NEWCARPRIC']<5000000)|(df_['NEWCARPRIC']>ub_5)\n",
    "                       |(df_['SUCCPRIC']>ub_6) ############################\n",
    "                       )\n",
    "    df_ = df_.drop(df_.index[outliers[0]])\n",
    "    \n",
    "    print(\"제거된 행 수\" , originDataNum-df_.shape[0])    \n",
    "    return df_, lb_1, ub_1, lb_2, ub_2, ub_3 ,lb_4, ub_4, lb_5, ub_5, ub_6\n",
    "    #return df_, lb_1, ub_1, lb_2, ub_2, ub_3 ,lb_4, ub_4, lb_5, ub_5\n",
    "\n",
    "#test data용 outliler\n",
    "def remove_outliers_test(df_test, lb_1, ub_1, lb_2, ub_2, ub_3 ,lb_4, ub_4, lb_5, ub_5, ub_6):\n",
    "    tmp = pd.DataFrame(df4['EXHA'].groupby(df4['Car_NMFUEL']).mean())\n",
    "    df_test = pd.merge(left=df_test, right = tmp, how='left', left_on='EXHA', right_on=tmp.index)\n",
    "    tmp = pd.DataFrame(df4['TRAVDIST'].groupby(df4['Car_NMFUEL']).mean())\n",
    "    df_test = pd.merge(left=df_test, right = tmp, how='left', left_on='TRAVDIST', right_on=tmp.index)\n",
    "    tmp = pd.DataFrame(df4['Car_price'].groupby(df4['Car_NMFUEL']).mean())\n",
    "    df_test = pd.merge(left=df_test, right = tmp, how='left', left_on='NC_GRADE_PRICE', right_on=tmp.index)\n",
    "    tmp = pd.DataFrame(df4['Car_price'].groupby(df4['Car_NMFUEL']).mean())\n",
    "    df_test = pd.merge(left=df_test, right = tmp, how='left', left_on='SHIPPING_PRICE', right_on=tmp.index)\n",
    "    tmp = pd.DataFrame(df4['Car_price'].groupby(df4['Car_NMFUEL']).mean())\n",
    "    df_test = pd.merge(left=df_test, right = tmp, how='left', left_on='NEWCARPRIC', right_on=tmp.index)\n",
    "    return df_test"
   ]
  },
  {
   "cell_type": "code",
   "execution_count": 12,
   "metadata": {
    "id": "FG0AhvIfbVhI"
   },
   "outputs": [],
   "source": [
    "#5. 파생변수 생성\n",
    "\n",
    "#차량명에서 맨 앞만 따와서 차량명의 새로운 파생변수 생성\n",
    "#소나타 2017년 하이브리드 -> 소나타\n",
    "def car_name_split(df):\n",
    "    func_split = lambda x : x.split()[0]\n",
    "    df['New_CARNM'] = df['CARNM'].map(func_split)\n",
    "    df['Car_NMFUEL'] = df['New_CARNM']+ ' '+df['FUELNM']\n",
    "    return df"
   ]
  },
  {
   "cell_type": "code",
   "execution_count": 13,
   "metadata": {
    "id": "FMYUejmRbj92"
   },
   "outputs": [],
   "source": [
    "# 차량명+연료에 따른 자동차들의 평균값 파생변수 생성\n",
    "def set_price_mean(df_): \n",
    "    df_ship_price_mean = pd.DataFrame(df_['SHIPPING_PRICE'].groupby(df_['Car_NMFUEL']).mean())\n",
    "    df_nc_price_mean = pd.DataFrame(df_['NC_GRADE_PRICE'].groupby(df_['Car_NMFUEL']).mean())\n",
    "    df_new_price_mean = pd.DataFrame(df_['NEWCARPRIC'].groupby(df_['Car_NMFUEL']).mean())\n",
    "\n",
    "    df_list = [df_ship_price_mean,df_nc_price_mean,df_new_price_mean]\n",
    "    col_list = ['ship_mean','nc_mean','new_mean']\n",
    "\n",
    "    for dfl,col in zip(df_list,col_list):\n",
    "        df_ = df_.merge(dfl, how='left', left_on='{}'.format('Car_NMFUEL'), right_on=dfl.index,\n",
    "                          suffixes=('','_by_{}'.format(col)))\n",
    "        \n",
    "    return df_, df_ship_price_mean, df_nc_price_mean, df_new_price_mean\n",
    "# test dataset에는 training set의 자료를 반영\n",
    "def set_price_mean_test(df_, df_ship_price_mean, df_nc_price_mean, df_new_price_mean): \n",
    "    df_list = [df_ship_price_mean,df_nc_price_mean,df_new_price_mean]\n",
    "    col_list = ['ship_mean','nc_mean','new_mean']\n",
    "\n",
    "    for dfl,col in zip(df_list,col_list):\n",
    "        df_ = df_.merge(dfl, how='left', left_on='{}'.format('Car_NMFUEL'), right_on=dfl.index,\n",
    "                          suffixes=('','_by_{}'.format(col)))\n",
    "        \n",
    "    return df_"
   ]
  },
  {
   "cell_type": "code",
   "execution_count": 14,
   "metadata": {
    "id": "_AcnirRJbl41"
   },
   "outputs": [],
   "source": [
    "# 결측치를 단순히 대체하는 형식이 아닌 존재하는 값들의 평균을 통해 산출\n",
    "from tqdm import tqdm\n",
    "def set_car_price(df):\n",
    "    df_ = df.copy()\n",
    "    car_price_list = []\n",
    "    for i in tqdm(range(df_.shape[0])):\n",
    "        nan_count = 0\n",
    "        if np.isnan(df_['SHIPPING_PRICE'][i]):\n",
    "            nan_count+=1\n",
    "            df_['SHIPPING_PRICE'][i] = 0\n",
    "        if np.isnan(df_['NC_GRADE_PRICE'][i]):\n",
    "            nan_count+=1\n",
    "            df_['NC_GRADE_PRICE'][i] = 0\n",
    "        if np.isnan(df_['NEWCARPRIC'][i]):\n",
    "            nan_count+=1\n",
    "            df_['NEWCARPRIC'][i] = 0\n",
    "        if np.isnan(df_['SHIPPING_PRICE_by_ship_mean'][i]):\n",
    "            nan_count+=1\n",
    "            df_['SHIPPING_PRICE_by_ship_mean'][i] = 0\n",
    "        if np.isnan(df_['NC_GRADE_PRICE_by_nc_mean'][i]):\n",
    "            nan_count+=1\n",
    "            df_['NC_GRADE_PRICE_by_nc_mean'][i] = 0\n",
    "        if np.isnan(df_['NEWCARPRIC_by_new_mean'][i]):\n",
    "            nan_count+=1\n",
    "            df_['NEWCARPRIC_by_new_mean'][i] = 0\n",
    "            \n",
    "        if nan_count!=6: #결측치가 아닌 값들만 반영함\n",
    "\n",
    "            car_price_list.append((df_['SHIPPING_PRICE'][i] + df_['NC_GRADE_PRICE'][i] + df_['NEWCARPRIC'][i]\n",
    "                                + df_['SHIPPING_PRICE_by_ship_mean'][i] + df_['NC_GRADE_PRICE_by_nc_mean'][i]\n",
    "                                + df_['NEWCARPRIC_by_new_mean'][i])/(6-nan_count))\n",
    "\n",
    "        else:\n",
    "            car_price_list.append(np.nan)\n",
    "\n",
    "    df['Car_price'] =  car_price_list   \n",
    "    return df"
   ]
  },
  {
   "cell_type": "code",
   "execution_count": 15,
   "metadata": {
    "id": "Az0PI6UTeyBC"
   },
   "outputs": [],
   "source": [
    "#차량 + 연식 변수 생성 : 2011년형 소나타 \n",
    "def car_year_name(df):\n",
    "    f_sting = lambda x : str(x)\n",
    "    df['Car_NMYEAR'] = df['New_CARNM']+ ' ' + df['YEAR'].map(f_sting)\n",
    "    return df"
   ]
  },
  {
   "cell_type": "code",
   "execution_count": 16,
   "metadata": {
    "id": "vqnpD2nUgqM7"
   },
   "outputs": [],
   "source": [
    "#연료+차량명, 연식+차량명들의 평균과 표준편차 산출\n",
    "def set_SUCCPRIC_mean(df_): \n",
    "    df_SUCCPRIC_mean_by_NMFUEL = pd.DataFrame(df_['SUCCPRIC'].groupby(df_['Car_NMFUEL']).mean())\n",
    "    df_SUCCPRIC_std_by_NMFUEL = pd.DataFrame(df_['SUCCPRIC'].groupby(df_['Car_NMFUEL']).std())\n",
    "    df_SUCCPRIC_mean_by_NMYEAR = pd.DataFrame(df_['SUCCPRIC'].groupby(df_['Car_NMYEAR']).mean())\n",
    "    df_SUCCPRIC_std_by_NMYEAR = pd.DataFrame(df_['SUCCPRIC'].groupby(df_['Car_NMYEAR']).std())\n",
    "\n",
    "    df_list = [df_SUCCPRIC_mean_by_NMFUEL,df_SUCCPRIC_std_by_NMFUEL,\n",
    "               df_SUCCPRIC_mean_by_NMYEAR,df_SUCCPRIC_std_by_NMYEAR]\n",
    "    col_list = ['Car_NMFUEL_mean','Car_NMFUEL_std','Car_NMYEAR_mean','Car_NMYEAR_std']\n",
    "    left_list = ['Car_NMFUEL','Car_NMFUEL','Car_NMYEAR','Car_NMYEAR']\n",
    "\n",
    "    for dfl,col,left in zip(df_list,col_list,left_list):\n",
    "        df_ = df_.merge(dfl, how='left', left_on='{}'.format(left), right_on=dfl.index,\n",
    "                          suffixes=('','_by_{}'.format(col)))\n",
    "        \n",
    "    df_['SUCCPRIC_by_Car_NMFUEL_std'].replace(np.nan, df_['SUCCPRIC'].std(), inplace = True)\n",
    "    df_['SUCCPRIC_by_Car_NMYEAR_std'].replace(np.nan, df_['SUCCPRIC'].std(), inplace = True) \n",
    "  \n",
    "    return df_, df_SUCCPRIC_mean_by_NMFUEL, df_SUCCPRIC_std_by_NMFUEL, df_SUCCPRIC_mean_by_NMYEAR, df_SUCCPRIC_std_by_NMYEAR\n",
    "\n",
    "#산출된 값을 test dataset에 이용\n",
    "def set_SUCCPRIC_mean_test(df_, df_SUCCPRIC_mean_by_NMFUEL, df_SUCCPRIC_std_by_NMFUEL, df_SUCCPRIC_mean_by_NMYEAR, df_SUCCPRIC_std_by_NMYEAR):\n",
    "    df_list = [df_SUCCPRIC_mean_by_NMFUEL,df_SUCCPRIC_std_by_NMFUEL,\n",
    "               df_SUCCPRIC_mean_by_NMYEAR,df_SUCCPRIC_std_by_NMYEAR]\n",
    "    col_list = ['Car_NMFUEL_mean','Car_NMFUEL_std','Car_NMYEAR_mean','Car_NMYEAR_std']\n",
    "    left_list = ['Car_NMFUEL','Car_NMFUEL','Car_NMYEAR','Car_NMYEAR']\n",
    "\n",
    "    for dfl,col,left in zip(df_list,col_list,left_list):\n",
    "        df_ = df_.merge(dfl, how='left', left_on='{}'.format(left), right_on=dfl.index,\n",
    "                          suffixes=('','_by_{}'.format(col)))\n",
    "        \n",
    "    df_['SUCCPRIC_by_Car_NMFUEL_std'].replace(np.nan, df_['SUCCPRIC'].std(), inplace = True)\n",
    "    df_['SUCCPRIC_by_Car_NMYEAR_std'].replace(np.nan, df_['SUCCPRIC'].std(), inplace = True)  \n",
    "    return df_"
   ]
  },
  {
   "cell_type": "code",
   "execution_count": 17,
   "metadata": {
    "id": "Zy90ndYq1xCA"
   },
   "outputs": [],
   "source": [
    "# 정의된 함수 실행"
   ]
  },
  {
   "cell_type": "code",
   "execution_count": 18,
   "metadata": {
    "colab": {
     "base_uri": "https://localhost:8080/",
     "height": 1000
    },
    "id": "QT3xzNp20lzh",
    "outputId": "1771e9d3-e589-4a4e-e21e-c70332c7a3b5"
   },
   "outputs": [
    {
     "name": "stdout",
     "output_type": "stream",
     "text": [
      "column CARREGIYMD have 1 null value \n",
      "\n",
      "column FUELNM have 1 null value \n",
      "\n",
      "column EXHA have 3 null value \n",
      "\n",
      "column USEUSENM have 323 null value \n",
      "\n",
      "column OWNECLASNM have 13 null value \n",
      "\n",
      "column NEWCARPRIC have 4470 null value \n",
      "\n",
      "column DT_MODEL_KEY have 3 null value \n",
      "\n",
      "column MJ_GRADE_KEY have 33 null value \n",
      "\n",
      "column DT_GRADE_KEY have 584 null value \n",
      "\n",
      "column NC_GRADE_KEY have 3601 null value \n",
      "\n",
      "column SHIPPING_PRICE have 4460 null value \n",
      "\n",
      "column NC_GRADE_PRICE have 3781 null value \n",
      "\n",
      "AxesSubplot(0.125,0.125;0.698618x0.755)\n",
      "GOODNO                                 0\n",
      "SUCCYMD                                0\n",
      "CARNM                                  0\n",
      "CHASNO                                 0\n",
      "CARREGIYMD                             1\n",
      "YEAR                                   0\n",
      "MISSNM                                 0\n",
      "FUELNM                                 1\n",
      "COLOR                                  0\n",
      "EXHA                                   3\n",
      "TRAVDIST                               0\n",
      "USEUSENM                             323\n",
      "OWNECLASNM                            13\n",
      "INNEEXPOCLASCD_YN                      0\n",
      "NEWCARPRIC                          4470\n",
      "SUCCPRIC                               0\n",
      "YEARCHK                                0\n",
      "BONET                                  0\n",
      "FRONT_LEFT_FENDER                      0\n",
      "FRONT_RIGHT_FENDER                     0\n",
      "FRONT_LEFT_DOOR                        0\n",
      "FRONT_RIGHT_DOOR                       0\n",
      "BACK_LEFT_DOOR                         0\n",
      "BACK_RIGHT_DOOR                        0\n",
      "TRUNK                                  0\n",
      "FRONT_PANNEL                           0\n",
      "LEFT_STEP                              0\n",
      "RIGHT_STEP                             0\n",
      "LEFT_FILER_A                           0\n",
      "RIGHT_FILER_A                          0\n",
      "LEFT_FILER_B                           0\n",
      "RIGHT_FILER_B                          0\n",
      "LEFT_FILER_C                           0\n",
      "RIGHT_FILER_C                          0\n",
      "LEFT_REAR_FENDER                       0\n",
      "RIGHT_REAR_FENDER                      0\n",
      "BACK_PANEL1                            0\n",
      "LEFT_INSIDE_PANEL                      0\n",
      "RIGHT_INSIDE_PANEL                     0\n",
      "LEFT_WHEEL_HOUSE                       0\n",
      "RIGHT_WHEEL_HOUSE                      0\n",
      "LEFT_INSIDE_WHEEL_HOUSE                0\n",
      "RIGHT_INSIDE_WHEEL_HOUSE               0\n",
      "LEFT_REAR_WHEEL_HOUSE                  0\n",
      "RIGHT_REAR_WHEEL_HOUSE                 0\n",
      "TRUNK_FLOOR                            0\n",
      "DASH_PANEL                             0\n",
      "SHEET_PANEL                            0\n",
      "SIDE_MEMBER_FRAME                      0\n",
      "LEFT_QUARTER                           0\n",
      "RIGHT_QUARTER                          0\n",
      "FLOOR_PANEL                            0\n",
      "LEFT_SIDE_PANEL                        0\n",
      "RIGHT_SIDE_PANEL                       0\n",
      "LEFT_REAR_CORNER_PANEL                 0\n",
      "RIGHT_REAR_CORNER_PANEL                0\n",
      "BACK_PANEL2                            0\n",
      "LEFT_CORNER_PANEL                      0\n",
      "RIGHT_CORNER_PANEL                     0\n",
      "LEFT_SKIRT_PANEL                       0\n",
      "RIGHT_SKIRT_PANEL                      0\n",
      "SIDE_MEMBER_FRAME2                     0\n",
      "LEFT_INSIDE_SHEETING                   0\n",
      "RIGHT_INSIDE_SHEETING                  0\n",
      "LEFT_WHEEL_HOUSE_SHEETING              0\n",
      "RIGHT_WHEEL_HOUSE_SHEETING             0\n",
      "LEFT_REAR_INSIDE_PANEL_SHEETING        0\n",
      "RIGHT_REAR_INSIDE_PANEL_SHEETING       0\n",
      "LEFT_REAR_WHEEL_HOUSE_SHEETING         0\n",
      "RIGHT_REAR_WHEEL_HOUSE_SHEETING        0\n",
      "TRUNK_FLOOR_SHEETING                   0\n",
      "DASH_PANEL_SHEETING                    0\n",
      "SHEET_BACK_PANEL_SHEETING              0\n",
      "SIDE_MEMBER_FRAME_SHEETING             0\n",
      "FLOOR_PANEL_SHEETING                   0\n",
      "LEFT_SIDE_PANEL_SHEETING               0\n",
      "RIGHT_SIDE_PANEL_SHEETING              0\n",
      "FLOODING                               0\n",
      "TOTAL_LOSS                             0\n",
      "JOINCAR                                0\n",
      "NOTAVAILABLE                           0\n",
      "MF_KEY                                 0\n",
      "MJ_MODEL_KEY                           0\n",
      "DT_MODEL_KEY                           3\n",
      "MJ_GRADE_KEY                          33\n",
      "DT_GRADE_KEY                         584\n",
      "NC_GRADE_KEY                        3601\n",
      "SHIPPING_PRICE                      4460\n",
      "NC_GRADE_PRICE                      3781\n",
      "ABS                                    0\n",
      "AB2                                    0\n",
      "NAVIGATION                             0\n",
      "VDC                                    0\n",
      "SMARTKEY                               0\n",
      "SUNLOOPPANORAMA                        0\n",
      "SUNLOOPCOMMON                          0\n",
      "SUNLOOPDUAL                            0\n",
      "DIS                                    0\n",
      "TCS                                    0\n",
      "AB1                                    0\n",
      "ETC                                    0\n",
      "AV                                     0\n",
      "EPS                                    0\n",
      "ECS                                    0\n",
      "dtype: int64\n",
      "GOODNO                                      object\n",
      "SUCCYMD                             datetime64[ns]\n",
      "CARNM                                       object\n",
      "CHASNO                                      object\n",
      "CARREGIYMD                          datetime64[ns]\n",
      "YEAR                                        object\n",
      "MISSNM                                      object\n",
      "FUELNM                                      object\n",
      "COLOR                                       object\n",
      "EXHA                                       float64\n",
      "TRAVDIST                                     int64\n",
      "USEUSENM                                    object\n",
      "OWNECLASNM                                  object\n",
      "INNEEXPOCLASCD_YN                           object\n",
      "NEWCARPRIC                                 float64\n",
      "SUCCPRIC                                     int64\n",
      "YEARCHK                                     object\n",
      "BONET                                        int64\n",
      "FRONT_LEFT_FENDER                            int64\n",
      "FRONT_RIGHT_FENDER                           int64\n",
      "FRONT_LEFT_DOOR                              int64\n",
      "FRONT_RIGHT_DOOR                             int64\n",
      "BACK_LEFT_DOOR                               int64\n",
      "BACK_RIGHT_DOOR                              int64\n",
      "TRUNK                                        int64\n",
      "FRONT_PANNEL                                 int64\n",
      "LEFT_STEP                                    int64\n",
      "RIGHT_STEP                                   int64\n",
      "LEFT_FILER_A                                 int64\n",
      "RIGHT_FILER_A                                int64\n",
      "LEFT_FILER_B                                 int64\n",
      "RIGHT_FILER_B                                int64\n",
      "LEFT_FILER_C                                 int64\n",
      "RIGHT_FILER_C                                int64\n",
      "LEFT_REAR_FENDER                             int64\n",
      "RIGHT_REAR_FENDER                            int64\n",
      "BACK_PANEL1                                  int64\n",
      "LEFT_INSIDE_PANEL                            int64\n",
      "RIGHT_INSIDE_PANEL                           int64\n",
      "LEFT_WHEEL_HOUSE                             int64\n",
      "RIGHT_WHEEL_HOUSE                            int64\n",
      "LEFT_INSIDE_WHEEL_HOUSE                      int64\n",
      "RIGHT_INSIDE_WHEEL_HOUSE                     int64\n",
      "LEFT_REAR_WHEEL_HOUSE                        int64\n",
      "RIGHT_REAR_WHEEL_HOUSE                       int64\n",
      "TRUNK_FLOOR                                  int64\n",
      "DASH_PANEL                                   int64\n",
      "SHEET_PANEL                                  int64\n",
      "SIDE_MEMBER_FRAME                            int64\n",
      "LEFT_QUARTER                                 int64\n",
      "RIGHT_QUARTER                                int64\n",
      "FLOOR_PANEL                                  int64\n",
      "LEFT_SIDE_PANEL                              int64\n",
      "RIGHT_SIDE_PANEL                             int64\n",
      "LEFT_REAR_CORNER_PANEL                       int64\n",
      "RIGHT_REAR_CORNER_PANEL                      int64\n",
      "BACK_PANEL2                                  int64\n",
      "LEFT_CORNER_PANEL                            int64\n",
      "RIGHT_CORNER_PANEL                           int64\n",
      "LEFT_SKIRT_PANEL                             int64\n",
      "RIGHT_SKIRT_PANEL                            int64\n",
      "SIDE_MEMBER_FRAME2                           int64\n",
      "LEFT_INSIDE_SHEETING                         int64\n",
      "RIGHT_INSIDE_SHEETING                        int64\n",
      "LEFT_WHEEL_HOUSE_SHEETING                    int64\n",
      "RIGHT_WHEEL_HOUSE_SHEETING                   int64\n",
      "LEFT_REAR_INSIDE_PANEL_SHEETING              int64\n",
      "RIGHT_REAR_INSIDE_PANEL_SHEETING             int64\n",
      "LEFT_REAR_WHEEL_HOUSE_SHEETING               int64\n",
      "RIGHT_REAR_WHEEL_HOUSE_SHEETING              int64\n",
      "TRUNK_FLOOR_SHEETING                         int64\n",
      "DASH_PANEL_SHEETING                          int64\n",
      "SHEET_BACK_PANEL_SHEETING                    int64\n",
      "SIDE_MEMBER_FRAME_SHEETING                   int64\n",
      "FLOOR_PANEL_SHEETING                         int64\n",
      "LEFT_SIDE_PANEL_SHEETING                     int64\n",
      "RIGHT_SIDE_PANEL_SHEETING                    int64\n",
      "FLOODING                                     int64\n",
      "TOTAL_LOSS                                   int64\n",
      "JOINCAR                                      int64\n",
      "NOTAVAILABLE                                 int64\n",
      "MF_KEY                                      object\n",
      "MJ_MODEL_KEY                                object\n",
      "DT_MODEL_KEY                                object\n",
      "MJ_GRADE_KEY                                object\n",
      "DT_GRADE_KEY                                object\n",
      "NC_GRADE_KEY                                object\n",
      "SHIPPING_PRICE                             float64\n",
      "NC_GRADE_PRICE                             float64\n",
      "ABS                                          int64\n",
      "AB2                                          int64\n",
      "NAVIGATION                                   int64\n",
      "VDC                                          int64\n",
      "SMARTKEY                                     int64\n",
      "SUNLOOPPANORAMA                              int64\n",
      "SUNLOOPCOMMON                                int64\n",
      "SUNLOOPDUAL                                  int64\n",
      "DIS                                          int64\n",
      "TCS                                          int64\n",
      "AB1                                          int64\n",
      "ETC                                          int64\n",
      "AV                                           int64\n",
      "EPS                                          int64\n",
      "ECS                                          int64\n",
      "dtype: object\n"
     ]
    },
    {
     "name": "stderr",
     "output_type": "stream",
     "text": [
      "C:\\ProgramData\\Anaconda3\\envs\\tfenv\\lib\\site-packages\\ipykernel_launcher.py:19: SettingWithCopyWarning: \n",
      "A value is trying to be set on a copy of a slice from a DataFrame\n",
      "\n",
      "See the caveats in the documentation: https://pandas.pydata.org/pandas-docs/stable/user_guide/indexing.html#returning-a-view-versus-a-copy\n",
      "C:\\ProgramData\\Anaconda3\\envs\\tfenv\\lib\\site-packages\\ipykernel_launcher.py:21: SettingWithCopyWarning: \n",
      "A value is trying to be set on a copy of a slice from a DataFrame\n",
      "\n",
      "See the caveats in the documentation: https://pandas.pydata.org/pandas-docs/stable/user_guide/indexing.html#returning-a-view-versus-a-copy\n",
      "C:\\ProgramData\\Anaconda3\\envs\\tfenv\\lib\\site-packages\\ipykernel_launcher.py:25: SettingWithCopyWarning: \n",
      "A value is trying to be set on a copy of a slice from a DataFrame\n",
      "\n",
      "See the caveats in the documentation: https://pandas.pydata.org/pandas-docs/stable/user_guide/indexing.html#returning-a-view-versus-a-copy\n",
      "C:\\ProgramData\\Anaconda3\\envs\\tfenv\\lib\\site-packages\\ipykernel_launcher.py:27: SettingWithCopyWarning: \n",
      "A value is trying to be set on a copy of a slice from a DataFrame\n",
      "\n",
      "See the caveats in the documentation: https://pandas.pydata.org/pandas-docs/stable/user_guide/indexing.html#returning-a-view-versus-a-copy\n"
     ]
    },
    {
     "data": {
      "image/png": "[encoded data removed]",
      "text/plain": [
       "<Figure size 1800x720 with 2 Axes>"
      ]
     },
     "metadata": {
      "needs_background": "light"
     },
     "output_type": "display_data"
    }
   ],
   "source": [
    "df = NullFunc(df)\n",
    "df = ChangeType(df)"
   ]
  },
  {
   "cell_type": "code",
   "execution_count": 19,
   "metadata": {
    "id": "9mDO54TylNYG"
   },
   "outputs": [],
   "source": [
    "df1 = df.copy()\n",
    "df1 = cal_accidents(df1)\n",
    "df1 = cal_options(df1)"
   ]
  },
  {
   "cell_type": "code",
   "execution_count": 20,
   "metadata": {
    "colab": {
     "base_uri": "https://localhost:8080/",
     "height": 359
    },
    "id": "N6o5-CMflaGj",
    "outputId": "fecbfabf-2cb1-48c6-cffa-df4c49ebccb6",
    "scrolled": true
   },
   "outputs": [
    {
     "name": "stdout",
     "output_type": "stream",
     "text": [
      "제거된 행 수 1487\n"
     ]
    },
    {
     "name": "stderr",
     "output_type": "stream",
     "text": [
      "C:\\ProgramData\\Anaconda3\\envs\\tfenv\\lib\\site-packages\\numpy\\lib\\nanfunctions.py:1372: RuntimeWarning: All-NaN slice encountered\n",
      "  overwrite_input=overwrite_input, interpolation=interpolation\n"
     ]
    }
   ],
   "source": [
    "df2 = df1.copy()\n",
    "df2, lb_1, ub_1, lb_2, ub_2, ub_3 ,lb_4, ub_4, lb_5, ub_5, ub_6 = remove_outliers(df2)\n",
    "#df2, lb_1, ub_1, lb_2, ub_2, ub_3 ,lb_4, ub_4, lb_5, ub_5 = remove_outliers(df2)"
   ]
  },
  {
   "cell_type": "code",
   "execution_count": 21,
   "metadata": {
    "id": "-3ag-T1IlrOB"
   },
   "outputs": [],
   "source": [
    "df3 = df2.copy()\n",
    "df3 = car_name_split(df3)"
   ]
  },
  {
   "cell_type": "code",
   "execution_count": 22,
   "metadata": {
    "id": "aQLYj3Etq5Sk"
   },
   "outputs": [
    {
     "name": "stderr",
     "output_type": "stream",
     "text": [
      "  0%|                                                                                        | 0/35307 [00:00<?, ?it/s]C:\\ProgramData\\Anaconda3\\envs\\tfenv\\lib\\site-packages\\ipykernel_launcher.py:16: SettingWithCopyWarning: \n",
      "A value is trying to be set on a copy of a slice from a DataFrame\n",
      "\n",
      "See the caveats in the documentation: https://pandas.pydata.org/pandas-docs/stable/user_guide/indexing.html#returning-a-view-versus-a-copy\n",
      "  app.launch_new_instance()\n",
      "C:\\ProgramData\\Anaconda3\\envs\\tfenv\\lib\\site-packages\\ipykernel_launcher.py:25: SettingWithCopyWarning: \n",
      "A value is trying to be set on a copy of a slice from a DataFrame\n",
      "\n",
      "See the caveats in the documentation: https://pandas.pydata.org/pandas-docs/stable/user_guide/indexing.html#returning-a-view-versus-a-copy\n",
      "C:\\ProgramData\\Anaconda3\\envs\\tfenv\\lib\\site-packages\\ipykernel_launcher.py:10: SettingWithCopyWarning: \n",
      "A value is trying to be set on a copy of a slice from a DataFrame\n",
      "\n",
      "See the caveats in the documentation: https://pandas.pydata.org/pandas-docs/stable/user_guide/indexing.html#returning-a-view-versus-a-copy\n",
      "  # Remove the CWD from sys.path while we load stuff.\n",
      "C:\\ProgramData\\Anaconda3\\envs\\tfenv\\lib\\site-packages\\ipykernel_launcher.py:13: SettingWithCopyWarning: \n",
      "A value is trying to be set on a copy of a slice from a DataFrame\n",
      "\n",
      "See the caveats in the documentation: https://pandas.pydata.org/pandas-docs/stable/user_guide/indexing.html#returning-a-view-versus-a-copy\n",
      "  del sys.path[0]\n",
      "C:\\ProgramData\\Anaconda3\\envs\\tfenv\\lib\\site-packages\\ipykernel_launcher.py:22: SettingWithCopyWarning: \n",
      "A value is trying to be set on a copy of a slice from a DataFrame\n",
      "\n",
      "See the caveats in the documentation: https://pandas.pydata.org/pandas-docs/stable/user_guide/indexing.html#returning-a-view-versus-a-copy\n",
      " 34%|████████████████████████▉                                                 | 11928/35307 [00:03<00:06, 3348.76it/s]C:\\ProgramData\\Anaconda3\\envs\\tfenv\\lib\\site-packages\\ipykernel_launcher.py:19: SettingWithCopyWarning: \n",
      "A value is trying to be set on a copy of a slice from a DataFrame\n",
      "\n",
      "See the caveats in the documentation: https://pandas.pydata.org/pandas-docs/stable/user_guide/indexing.html#returning-a-view-versus-a-copy\n",
      "100%|██████████████████████████████████████████████████████████████████████████| 35307/35307 [00:10<00:00, 3346.68it/s]\n"
     ]
    }
   ],
   "source": [
    "df4 = df3.copy()\n",
    "df4,df_ship_price_mean, df_nc_price_mean, df_new_price_mean = set_price_mean(df4)\n",
    "df4 = set_car_price(df4)\n",
    "df4 = car_year_name(df4)\n",
    "df4, df_SUCCPRIC_mean_by_NMFUEL, df_SUCCPRIC_std_by_NMFUEL, df_SUCCPRIC_mean_by_NMYEAR, df_SUCCPRIC_std_by_NMYEAR = set_SUCCPRIC_mean(df4)"
   ]
  },
  {
   "cell_type": "code",
   "execution_count": 23,
   "metadata": {
    "id": "5mYNRX9esXTk"
   },
   "outputs": [],
   "source": [
    "def cal_days(start, end): #날짜 차이 일(days) 계산용\n",
    "    return (start-end).days\n",
    "\n",
    "def make_day(df_): #차량 나이(일)을 파생변수로 추가\n",
    "    df_['DAY'] = df_.apply(lambda x : cal_days(x['SUCCYMD'],x['CARREGIYMD']),axis=1)\n",
    "    return df_"
   ]
  },
  {
   "cell_type": "code",
   "execution_count": 24,
   "metadata": {
    "id": "6sbJeoW9sPuv"
   },
   "outputs": [],
   "source": [
    "#파생 변수에 쓰인 필요없는 자료들 전부 제거\n",
    "def remove_column(df):\n",
    "    return df.loc[:,['DAY',\n",
    "                 'MISSNM','COLOR','EXHA','TRAVDIST','USEUSENM','OWNECLASNM',\n",
    "                 'INNEEXPOCLASCD_YN','SUCCPRIC','YEARCHK',\n",
    "                 'ACCI1','ACCI2','ACCI3','ACCI4','TRASHCAR',\n",
    "                 'SAFETYOP','DRIVEOP','COMFORTOP',\n",
    "                 'Car_price','SUCCPRIC_by_Car_NMFUEL_mean',\n",
    "                 'SUCCPRIC_by_Car_NMFUEL_std','SUCCPRIC_by_Car_NMYEAR_mean','SUCCPRIC_by_Car_NMYEAR_std']]"
   ]
  },
  {
   "cell_type": "code",
   "execution_count": 25,
   "metadata": {
    "id": "E6hrkKmqvztT"
   },
   "outputs": [],
   "source": [
    "#######################여기부터 수정코드############################\n",
    "#######################여기부터 수정코드############################\n",
    "#######################여기부터 수정코드############################"
   ]
  },
  {
   "cell_type": "code",
   "execution_count": 26,
   "metadata": {
    "id": "U3kxlLPwvaG5"
   },
   "outputs": [
    {
     "name": "stdout",
     "output_type": "stream",
     "text": [
      "(35307, 23)\n",
      "제거된 결측행 수 = 324\n",
      "(34983, 23)\n"
     ]
    },
    {
     "data": {
      "text/plain": [
       "DAY                            0\n",
       "MISSNM                         0\n",
       "COLOR                          0\n",
       "EXHA                           0\n",
       "TRAVDIST                       0\n",
       "USEUSENM                       0\n",
       "OWNECLASNM                     0\n",
       "INNEEXPOCLASCD_YN              0\n",
       "SUCCPRIC                       0\n",
       "YEARCHK                        0\n",
       "ACCI1                          0\n",
       "ACCI2                          0\n",
       "ACCI3                          0\n",
       "ACCI4                          0\n",
       "TRASHCAR                       0\n",
       "SAFETYOP                       0\n",
       "DRIVEOP                        0\n",
       "COMFORTOP                      0\n",
       "Car_price                      0\n",
       "SUCCPRIC_by_Car_NMFUEL_mean    0\n",
       "SUCCPRIC_by_Car_NMFUEL_std     0\n",
       "SUCCPRIC_by_Car_NMYEAR_mean    0\n",
       "SUCCPRIC_by_Car_NMYEAR_std     0\n",
       "dtype: int64"
      ]
     },
     "execution_count": 26,
     "metadata": {},
     "output_type": "execute_result"
    }
   ],
   "source": [
    "#사용 변수만 추출\n",
    "df5 = df4.copy()\n",
    "df5 = make_day(df5)\n",
    "df5 = remove_column(df5)\n",
    "\n",
    "#결측행 제거\n",
    "print(df5.shape)\n",
    "originNum = df5.shape[0]\n",
    "df5.dropna(inplace=True)\n",
    "print('제거된 결측행 수 =', originNum -df5.shape[0])\n",
    "print(df5.shape)\n",
    "df5.isnull().sum()"
   ]
  },
  {
   "cell_type": "code",
   "execution_count": 27,
   "metadata": {
    "id": "oCHDz1Hkvazn"
   },
   "outputs": [
    {
     "data": {
      "text/plain": [
       "DAY                            float64\n",
       "EXHA                           float64\n",
       "TRAVDIST                         int64\n",
       "ACCI1                            int64\n",
       "ACCI2                            int64\n",
       "ACCI3                            int64\n",
       "ACCI4                            int64\n",
       "TRASHCAR                         int64\n",
       "SAFETYOP                         int64\n",
       "DRIVEOP                          int64\n",
       "COMFORTOP                        int64\n",
       "Car_price                      float64\n",
       "SUCCPRIC_by_Car_NMFUEL_mean    float64\n",
       "SUCCPRIC_by_Car_NMFUEL_std     float64\n",
       "SUCCPRIC_by_Car_NMYEAR_mean    float64\n",
       "SUCCPRIC_by_Car_NMYEAR_std     float64\n",
       "SUCCPRIC                         int64\n",
       "A/T                              uint8\n",
       "CVT                              uint8\n",
       "M/T                              uint8\n",
       "A                                uint8\n",
       "B                                uint8\n",
       "C                                uint8\n",
       "D                                uint8\n",
       "F                                uint8\n",
       "렌트                               uint8\n",
       "리스                               uint8\n",
       "사업                               uint8\n",
       "업무                               uint8\n",
       "자가                               uint8\n",
       "개인                               uint8\n",
       "개인사업                             uint8\n",
       "법인                               uint8\n",
       "법인상품                             uint8\n",
       "상품용                              uint8\n",
       "재외국인                             uint8\n",
       "종교단체                             uint8\n",
       "0                                uint8\n",
       "1                                uint8\n",
       "dtype: object"
      ]
     },
     "execution_count": 27,
     "metadata": {},
     "output_type": "execute_result"
    }
   ],
   "source": [
    "#범주형 원 핫 인코딩\n",
    "CATEGORICAL = ['MISSNM', 'COLOR', 'USEUSENM','OWNECLASNM','YEARCHK','INNEEXPOCLASCD_YN']\n",
    "\n",
    "def make_cat(df,CATEGORICAL):\n",
    "    df_ = df.loc[:,['DAY','EXHA','TRAVDIST','ACCI1','ACCI2','ACCI3','ACCI4',\n",
    "                    'TRASHCAR','SAFETYOP','DRIVEOP','COMFORTOP','Car_price',\n",
    "                    'SUCCPRIC_by_Car_NMFUEL_mean','SUCCPRIC_by_Car_NMFUEL_std', \n",
    "                    'SUCCPRIC_by_Car_NMYEAR_mean', 'SUCCPRIC_by_Car_NMYEAR_std','SUCCPRIC']]\n",
    "    for i in CATEGORICAL :\n",
    "        cate_i = pd.get_dummies(df.loc[:, i])\n",
    "        df_[cate_i.columns] = cate_i\n",
    "        \n",
    "    #df_.dropna(inplace=True) ############################ \n",
    "    #print(df_.isnull().sum())\n",
    "    return df_\n",
    "\n",
    "df5 = make_cat(df5,CATEGORICAL)    \n",
    "df5.dtypes"
   ]
  },
  {
   "cell_type": "code",
   "execution_count": 28,
   "metadata": {
    "id": "VuC5QP0dvuBw"
   },
   "outputs": [],
   "source": [
    "#y_price 분리\n",
    "y_price = df5.loc[:, 'SUCCPRIC']\n",
    "df_ = df5.drop('SUCCPRIC', 1)"
   ]
  },
  {
   "cell_type": "code",
   "execution_count": 29,
   "metadata": {
    "id": "_3sWu341xzOc"
   },
   "outputs": [],
   "source": [
    "#normalize 해야하는 칼럼들 모임\n",
    "numerical_col = ['DAY','EXHA','TRAVDIST','ACCI1','ACCI2','ACCI3','ACCI4','TRASHCAR','SAFETYOP','DRIVEOP','COMFORTOP',\n",
    "                 'Car_price',\n",
    "                 'SUCCPRIC_by_Car_NMFUEL_mean','SUCCPRIC_by_Car_NMFUEL_std', 'SUCCPRIC_by_Car_NMYEAR_mean', 'SUCCPRIC_by_Car_NMYEAR_std']\n",
    "numerical_col_wY = ['DAY','EXHA','TRAVDIST','ACCI1','ACCI2','ACCI3','ACCI4','TRASHCAR','SAFETYOP','DRIVEOP','COMFORTOP',\n",
    "                 'Car_price',\n",
    "                 'SUCCPRIC_by_Car_NMFUEL_mean','SUCCPRIC_by_Car_NMFUEL_std', 'SUCCPRIC_by_Car_NMYEAR_mean', 'SUCCPRIC_by_Car_NMYEAR_std','SUCCPRIC']"
   ]
  },
  {
   "cell_type": "markdown",
   "metadata": {
    "id": "Wig4rFyKwwh0"
   },
   "source": []
  },
  {
   "cell_type": "code",
   "execution_count": 30,
   "metadata": {
    "id": "inikx6iWzaZu"
   },
   "outputs": [],
   "source": [
    "#traing set 과 validation set으로 분류\n",
    "def splitData(df, ratio, y_column):\n",
    "    \n",
    "    columns_ = df.columns\n",
    "    # Subsample the data\n",
    "    mask = list(range(0,df.shape[0], ratio))\n",
    "    X_val = df.iloc[mask, :].drop(y_column, 1)\n",
    "    y_val = df.iloc[mask][y_column]\n",
    "    \n",
    "    mask = ~df.index.isin(mask)\n",
    "    X_train = df.loc[mask, :].drop(y_column, 1)\n",
    "    y_train = df.loc[mask, y_column]\n",
    "    \n",
    "    return X_train, y_train, X_val, y_val"
   ]
  },
  {
   "cell_type": "code",
   "execution_count": 31,
   "metadata": {
    "id": "rkHW4H8uv8tJ"
   },
   "outputs": [],
   "source": [
    "X_train, y_train, X_val, y_val = splitData(df5, 5, y_column = 'SUCCPRIC') "
   ]
  },
  {
   "cell_type": "code",
   "execution_count": 32,
   "metadata": {
    "id": "KSbJB8dhwJLh"
   },
   "outputs": [],
   "source": [
    "#######################여기까지 수정코드############################\n",
    "#######################여기까지 수정코드############################\n",
    "#######################여기까지 수정코드############################"
   ]
  },
  {
   "cell_type": "code",
   "execution_count": 33,
   "metadata": {
    "id": "gENzCkIxzqIV"
   },
   "outputs": [],
   "source": [
    "# 수치형 데이터 정규화 함수\n",
    "def z_normalize(df_, columns):\n",
    "    if sum(df_.loc[:,columns].std()==0) !=0:\n",
    "        print(\":하나의 값만 존재하는 컬럼이 있음\")\n",
    "        return\n",
    "    cache = {}\n",
    "    cache['mean'] = df_.loc[:,columns].mean(axis=0)\n",
    "    cache['std'] = df_.loc[:,columns].std(axis=0)\n",
    "    \n",
    "    return (df_.loc[:,columns] - df_.loc[:,columns].mean(axis=0))/(df_.loc[:,columns].std(axis=0)), cache \n",
    "\n",
    "def z_normalize_val(df, columns , cache):\n",
    "      return(df.loc[:,columns]-cache['mean'])/cache['std']"
   ]
  },
  {
   "cell_type": "code",
   "execution_count": 34,
   "metadata": {
    "id": "TF9ZzHPz1uuE"
   },
   "outputs": [],
   "source": [
    "X_train_norm = X_train.copy()\n",
    "X_train_norm.loc[:, numerical_col], cache = z_normalize(X_train, numerical_col)\n",
    "X_val_norm = X_val.copy()\n",
    "X_val_norm.loc[:, numerical_col] = z_normalize_val(X_val, numerical_col, cache)"
   ]
  },
  {
   "cell_type": "code",
   "execution_count": 35,
   "metadata": {
    "id": "WpB7VipJAOqn",
    "scrolled": true
   },
   "outputs": [
    {
     "data": {
      "text/html": [
       "<div>\n",
       "<style scoped>\n",
       "    .dataframe tbody tr th:only-of-type {\n",
       "        vertical-align: middle;\n",
       "    }\n",
       "\n",
       "    .dataframe tbody tr th {\n",
       "        vertical-align: top;\n",
       "    }\n",
       "\n",
       "    .dataframe thead th {\n",
       "        text-align: right;\n",
       "    }\n",
       "</style>\n",
       "<table border=\"1\" class=\"dataframe\">\n",
       "  <thead>\n",
       "    <tr style=\"text-align: right;\">\n",
       "      <th></th>\n",
       "      <th>DAY</th>\n",
       "      <th>EXHA</th>\n",
       "      <th>TRAVDIST</th>\n",
       "      <th>ACCI1</th>\n",
       "      <th>ACCI2</th>\n",
       "      <th>ACCI3</th>\n",
       "      <th>ACCI4</th>\n",
       "      <th>TRASHCAR</th>\n",
       "      <th>SAFETYOP</th>\n",
       "      <th>DRIVEOP</th>\n",
       "      <th>...</th>\n",
       "      <th>자가</th>\n",
       "      <th>개인</th>\n",
       "      <th>개인사업</th>\n",
       "      <th>법인</th>\n",
       "      <th>법인상품</th>\n",
       "      <th>상품용</th>\n",
       "      <th>재외국인</th>\n",
       "      <th>종교단체</th>\n",
       "      <th>0</th>\n",
       "      <th>1</th>\n",
       "    </tr>\n",
       "  </thead>\n",
       "  <tbody>\n",
       "    <tr>\n",
       "      <th>1</th>\n",
       "      <td>-0.663160</td>\n",
       "      <td>-0.226563</td>\n",
       "      <td>-0.499347</td>\n",
       "      <td>-0.814881</td>\n",
       "      <td>-0.334109</td>\n",
       "      <td>-0.195675</td>\n",
       "      <td>-0.607630</td>\n",
       "      <td>-0.250988</td>\n",
       "      <td>0.759138</td>\n",
       "      <td>-0.05142</td>\n",
       "      <td>...</td>\n",
       "      <td>1</td>\n",
       "      <td>0</td>\n",
       "      <td>0</td>\n",
       "      <td>1</td>\n",
       "      <td>0</td>\n",
       "      <td>0</td>\n",
       "      <td>0</td>\n",
       "      <td>0</td>\n",
       "      <td>1</td>\n",
       "      <td>0</td>\n",
       "    </tr>\n",
       "    <tr>\n",
       "      <th>2</th>\n",
       "      <td>-1.046798</td>\n",
       "      <td>-0.239485</td>\n",
       "      <td>-1.001643</td>\n",
       "      <td>-0.814881</td>\n",
       "      <td>-0.334109</td>\n",
       "      <td>-0.195675</td>\n",
       "      <td>-0.607630</td>\n",
       "      <td>-0.250988</td>\n",
       "      <td>0.759138</td>\n",
       "      <td>-0.05142</td>\n",
       "      <td>...</td>\n",
       "      <td>1</td>\n",
       "      <td>0</td>\n",
       "      <td>0</td>\n",
       "      <td>1</td>\n",
       "      <td>0</td>\n",
       "      <td>0</td>\n",
       "      <td>0</td>\n",
       "      <td>0</td>\n",
       "      <td>1</td>\n",
       "      <td>0</td>\n",
       "    </tr>\n",
       "    <tr>\n",
       "      <th>3</th>\n",
       "      <td>-0.608046</td>\n",
       "      <td>0.347757</td>\n",
       "      <td>0.490393</td>\n",
       "      <td>-0.814881</td>\n",
       "      <td>-0.334109</td>\n",
       "      <td>-0.195675</td>\n",
       "      <td>-0.607630</td>\n",
       "      <td>-0.250988</td>\n",
       "      <td>-0.794178</td>\n",
       "      <td>-0.05142</td>\n",
       "      <td>...</td>\n",
       "      <td>0</td>\n",
       "      <td>0</td>\n",
       "      <td>0</td>\n",
       "      <td>1</td>\n",
       "      <td>0</td>\n",
       "      <td>0</td>\n",
       "      <td>0</td>\n",
       "      <td>0</td>\n",
       "      <td>1</td>\n",
       "      <td>0</td>\n",
       "    </tr>\n",
       "    <tr>\n",
       "      <th>4</th>\n",
       "      <td>0.040355</td>\n",
       "      <td>0.347757</td>\n",
       "      <td>-0.097844</td>\n",
       "      <td>1.864564</td>\n",
       "      <td>1.343369</td>\n",
       "      <td>-0.195675</td>\n",
       "      <td>0.950793</td>\n",
       "      <td>-0.250988</td>\n",
       "      <td>-0.794178</td>\n",
       "      <td>-0.05142</td>\n",
       "      <td>...</td>\n",
       "      <td>0</td>\n",
       "      <td>0</td>\n",
       "      <td>0</td>\n",
       "      <td>1</td>\n",
       "      <td>0</td>\n",
       "      <td>0</td>\n",
       "      <td>0</td>\n",
       "      <td>0</td>\n",
       "      <td>1</td>\n",
       "      <td>0</td>\n",
       "    </tr>\n",
       "    <tr>\n",
       "      <th>6</th>\n",
       "      <td>-0.601562</td>\n",
       "      <td>0.347757</td>\n",
       "      <td>2.375832</td>\n",
       "      <td>0.078267</td>\n",
       "      <td>1.343369</td>\n",
       "      <td>-0.195675</td>\n",
       "      <td>-0.607630</td>\n",
       "      <td>-0.250988</td>\n",
       "      <td>-0.794178</td>\n",
       "      <td>-0.05142</td>\n",
       "      <td>...</td>\n",
       "      <td>0</td>\n",
       "      <td>0</td>\n",
       "      <td>0</td>\n",
       "      <td>1</td>\n",
       "      <td>0</td>\n",
       "      <td>0</td>\n",
       "      <td>0</td>\n",
       "      <td>0</td>\n",
       "      <td>0</td>\n",
       "      <td>1</td>\n",
       "    </tr>\n",
       "    <tr>\n",
       "      <th>...</th>\n",
       "      <td>...</td>\n",
       "      <td>...</td>\n",
       "      <td>...</td>\n",
       "      <td>...</td>\n",
       "      <td>...</td>\n",
       "      <td>...</td>\n",
       "      <td>...</td>\n",
       "      <td>...</td>\n",
       "      <td>...</td>\n",
       "      <td>...</td>\n",
       "      <td>...</td>\n",
       "      <td>...</td>\n",
       "      <td>...</td>\n",
       "      <td>...</td>\n",
       "      <td>...</td>\n",
       "      <td>...</td>\n",
       "      <td>...</td>\n",
       "      <td>...</td>\n",
       "      <td>...</td>\n",
       "      <td>...</td>\n",
       "      <td>...</td>\n",
       "    </tr>\n",
       "    <tr>\n",
       "      <th>35302</th>\n",
       "      <td>-0.128229</td>\n",
       "      <td>-1.090915</td>\n",
       "      <td>-0.500586</td>\n",
       "      <td>-0.814881</td>\n",
       "      <td>-0.334109</td>\n",
       "      <td>-0.195675</td>\n",
       "      <td>-0.607630</td>\n",
       "      <td>-0.250988</td>\n",
       "      <td>0.759138</td>\n",
       "      <td>-0.05142</td>\n",
       "      <td>...</td>\n",
       "      <td>1</td>\n",
       "      <td>0</td>\n",
       "      <td>0</td>\n",
       "      <td>0</td>\n",
       "      <td>1</td>\n",
       "      <td>0</td>\n",
       "      <td>0</td>\n",
       "      <td>0</td>\n",
       "      <td>1</td>\n",
       "      <td>0</td>\n",
       "    </tr>\n",
       "    <tr>\n",
       "      <th>35303</th>\n",
       "      <td>-0.063389</td>\n",
       "      <td>2.900610</td>\n",
       "      <td>0.235299</td>\n",
       "      <td>0.078267</td>\n",
       "      <td>-0.334109</td>\n",
       "      <td>-0.195675</td>\n",
       "      <td>0.950793</td>\n",
       "      <td>-0.250988</td>\n",
       "      <td>0.759138</td>\n",
       "      <td>-0.05142</td>\n",
       "      <td>...</td>\n",
       "      <td>1</td>\n",
       "      <td>0</td>\n",
       "      <td>0</td>\n",
       "      <td>0</td>\n",
       "      <td>1</td>\n",
       "      <td>0</td>\n",
       "      <td>0</td>\n",
       "      <td>0</td>\n",
       "      <td>1</td>\n",
       "      <td>0</td>\n",
       "    </tr>\n",
       "    <tr>\n",
       "      <th>35304</th>\n",
       "      <td>-0.213602</td>\n",
       "      <td>2.274601</td>\n",
       "      <td>1.388056</td>\n",
       "      <td>0.971415</td>\n",
       "      <td>-0.334109</td>\n",
       "      <td>-0.195675</td>\n",
       "      <td>-0.607630</td>\n",
       "      <td>-0.250988</td>\n",
       "      <td>0.759138</td>\n",
       "      <td>-0.05142</td>\n",
       "      <td>...</td>\n",
       "      <td>0</td>\n",
       "      <td>0</td>\n",
       "      <td>0</td>\n",
       "      <td>0</td>\n",
       "      <td>1</td>\n",
       "      <td>0</td>\n",
       "      <td>0</td>\n",
       "      <td>0</td>\n",
       "      <td>1</td>\n",
       "      <td>0</td>\n",
       "    </tr>\n",
       "    <tr>\n",
       "      <th>35305</th>\n",
       "      <td>0.101953</td>\n",
       "      <td>0.346321</td>\n",
       "      <td>1.108275</td>\n",
       "      <td>0.971415</td>\n",
       "      <td>-0.334109</td>\n",
       "      <td>-0.195675</td>\n",
       "      <td>0.171581</td>\n",
       "      <td>-0.250988</td>\n",
       "      <td>-0.794178</td>\n",
       "      <td>-0.05142</td>\n",
       "      <td>...</td>\n",
       "      <td>0</td>\n",
       "      <td>0</td>\n",
       "      <td>0</td>\n",
       "      <td>0</td>\n",
       "      <td>1</td>\n",
       "      <td>0</td>\n",
       "      <td>0</td>\n",
       "      <td>0</td>\n",
       "      <td>1</td>\n",
       "      <td>0</td>\n",
       "    </tr>\n",
       "    <tr>\n",
       "      <th>35306</th>\n",
       "      <td>0.155987</td>\n",
       "      <td>0.346321</td>\n",
       "      <td>1.509240</td>\n",
       "      <td>-0.814881</td>\n",
       "      <td>-0.334109</td>\n",
       "      <td>-0.195675</td>\n",
       "      <td>-0.607630</td>\n",
       "      <td>-0.250988</td>\n",
       "      <td>-0.794178</td>\n",
       "      <td>-0.05142</td>\n",
       "      <td>...</td>\n",
       "      <td>0</td>\n",
       "      <td>0</td>\n",
       "      <td>0</td>\n",
       "      <td>0</td>\n",
       "      <td>1</td>\n",
       "      <td>0</td>\n",
       "      <td>0</td>\n",
       "      <td>0</td>\n",
       "      <td>1</td>\n",
       "      <td>0</td>\n",
       "    </tr>\n",
       "  </tbody>\n",
       "</table>\n",
       "<p>28061 rows × 38 columns</p>\n",
       "</div>"
      ],
      "text/plain": [
       "            DAY      EXHA  TRAVDIST     ACCI1     ACCI2     ACCI3     ACCI4  \\\n",
       "1     -0.663160 -0.226563 -0.499347 -0.814881 -0.334109 -0.195675 -0.607630   \n",
       "2     -1.046798 -0.239485 -1.001643 -0.814881 -0.334109 -0.195675 -0.607630   \n",
       "3     -0.608046  0.347757  0.490393 -0.814881 -0.334109 -0.195675 -0.607630   \n",
       "4      0.040355  0.347757 -0.097844  1.864564  1.343369 -0.195675  0.950793   \n",
       "6     -0.601562  0.347757  2.375832  0.078267  1.343369 -0.195675 -0.607630   \n",
       "...         ...       ...       ...       ...       ...       ...       ...   \n",
       "35302 -0.128229 -1.090915 -0.500586 -0.814881 -0.334109 -0.195675 -0.607630   \n",
       "35303 -0.063389  2.900610  0.235299  0.078267 -0.334109 -0.195675  0.950793   \n",
       "35304 -0.213602  2.274601  1.388056  0.971415 -0.334109 -0.195675 -0.607630   \n",
       "35305  0.101953  0.346321  1.108275  0.971415 -0.334109 -0.195675  0.171581   \n",
       "35306  0.155987  0.346321  1.509240 -0.814881 -0.334109 -0.195675 -0.607630   \n",
       "\n",
       "       TRASHCAR  SAFETYOP  DRIVEOP  ...  자가  개인  개인사업  법인  법인상품  상품용  재외국인  \\\n",
       "1     -0.250988  0.759138 -0.05142  ...   1   0     0   1     0    0     0   \n",
       "2     -0.250988  0.759138 -0.05142  ...   1   0     0   1     0    0     0   \n",
       "3     -0.250988 -0.794178 -0.05142  ...   0   0     0   1     0    0     0   \n",
       "4     -0.250988 -0.794178 -0.05142  ...   0   0     0   1     0    0     0   \n",
       "6     -0.250988 -0.794178 -0.05142  ...   0   0     0   1     0    0     0   \n",
       "...         ...       ...      ...  ...  ..  ..   ...  ..   ...  ...   ...   \n",
       "35302 -0.250988  0.759138 -0.05142  ...   1   0     0   0     1    0     0   \n",
       "35303 -0.250988  0.759138 -0.05142  ...   1   0     0   0     1    0     0   \n",
       "35304 -0.250988  0.759138 -0.05142  ...   0   0     0   0     1    0     0   \n",
       "35305 -0.250988 -0.794178 -0.05142  ...   0   0     0   0     1    0     0   \n",
       "35306 -0.250988 -0.794178 -0.05142  ...   0   0     0   0     1    0     0   \n",
       "\n",
       "       종교단체  0  1  \n",
       "1         0  1  0  \n",
       "2         0  1  0  \n",
       "3         0  1  0  \n",
       "4         0  1  0  \n",
       "6         0  0  1  \n",
       "...     ... .. ..  \n",
       "35302     0  1  0  \n",
       "35303     0  1  0  \n",
       "35304     0  1  0  \n",
       "35305     0  1  0  \n",
       "35306     0  1  0  \n",
       "\n",
       "[28061 rows x 38 columns]"
      ]
     },
     "execution_count": 35,
     "metadata": {},
     "output_type": "execute_result"
    }
   ],
   "source": [
    "X_train_norm"
   ]
  },
  {
   "cell_type": "code",
   "execution_count": 36,
   "metadata": {
    "id": "pNBWoNLQ15ZG"
   },
   "outputs": [],
   "source": [
    "from sklearn.ensemble import RandomForestRegressor\n",
    "\n",
    "#################################################################################\n",
    "# TODO: validation dataset을 활용하여 하이퍼 파라미터를 조정하고 가장 좋은 모델 # \n",
    "# 을 저장하여 test dataset에 사용                                               #\n",
    "#                                                                               \n",
    "# 1. n_estimators, max_depth을 조절하여 가장 좋은 모델을 'best_rf'에 저장, 가장 \n",
    "# 좋은 모델의 하이퍼 파라미터를 'best_hyperparamter'에 저장. 모델의 성능 비교는\n",
    "# validation set의 MSE를 참조하고 가장 좋은 모델의 MSE를 'best_MSE'에 저장.\n",
    "#\n",
    "# 2. 현재 가장 좋은 모델의 하이퍼파라미터를 고정하고 Random Forest 모델의 다른 \n",
    "# hyperparameter를 조절하여 성능 차이 비교 (위의 scikit-learn 문서 참조)\n",
    "#################################################################################\n",
    "def runRandomForest(x_train,y_train,x_val,y_val):\n",
    "\n",
    "    best_rf = None # store the best model into this \n",
    "    best_mse = 1e15\n",
    "    best_hyperparameter = None\n",
    "    results = {}\n",
    "    # n_estimators = [50, 100, 200, 300]\n",
    "    # max_depths = [100, 200, 300]\n",
    "    # Best parameters : [ n_estimator :100 ,  max_depth :100 ]\n",
    "    # n_estimators = [75, 100, 125]\n",
    "    # max_depths = [50, 75, 100, 125]\n",
    "    #Best parameters : [ n_estimator :125 ,  max_depth :50 ]\n",
    "    # n_estimators = [115, 120, 125, 130, 135]\n",
    "    # max_depths = [30, 50, 70]\n",
    "    # Best parameters : [ n_estimator :135 ,  max_depth :30 ]\n",
    "    # n_estimators = [120, 135, 150]\n",
    "    # max_depths = [20, 30, 40]\n",
    "    #Best parameters : [ n_estimator :150 ,  max_depth :30 ]\n",
    "    # n_estimators = [150, 170, 200]\n",
    "    # max_depths = [25, 30, 35]\n",
    "    # Best parameters : [ n_estimator :200 ,  max_depth :30 ]\n",
    "    n_estimators = [200,250,300]\n",
    "    max_depths = [30]\n",
    "    best_parameter = []\n",
    "\n",
    "    ects = None\n",
    "\n",
    "    for i in n_estimators:\n",
    "        for j in max_depths:\n",
    "            regr = RandomForestRegressor(n_estimators=i, criterion='mse', max_depth=j, random_state=2020)\n",
    "            regr.fit(x_train,y_train)\n",
    "            predicted = regr.predict(x_val)\n",
    "            mse = np.mean(np.square(predicted-y_val))\n",
    "            print('n_estimator : ',i,' max_depth : ',j)\n",
    "            print('VALID 중고차 낙찰가 MSE: ',mse)\n",
    "            print('VALID 중고차 낙찰가 MAE: ',np.mean(np.abs(predicted-y_val)))\n",
    "  \n",
    "            print('*'*50)\n",
    "            \n",
    "            if (mse < best_mse):\n",
    "                best_mse = mse\n",
    "                best_rf = regr\n",
    "                best_rf_parameter = ['n_estimator :'+str(i),'max_depth :'+str(j)]\n",
    "          \n",
    "    return best_mse, best_rf,best_rf_parameter "
   ]
  },
  {
   "cell_type": "code",
   "execution_count": 37,
   "metadata": {
    "id": "3npz0X0g2gXt"
   },
   "outputs": [
    {
     "name": "stdout",
     "output_type": "stream",
     "text": [
      "n_estimator :  200  max_depth :  30\n",
      "VALID 중고차 낙찰가 MSE:  188800855680.92517\n",
      "VALID 중고차 낙찰가 MAE:  267722.38348626543\n",
      "**************************************************\n",
      "n_estimator :  250  max_depth :  30\n",
      "VALID 중고차 낙찰가 MSE:  188506789560.8392\n",
      "VALID 중고차 낙찰가 MAE:  267609.76971490256\n",
      "**************************************************\n",
      "n_estimator :  300  max_depth :  30\n",
      "VALID 중고차 낙찰가 MSE:  188093285738.11667\n",
      "VALID 중고차 낙찰가 MAE:  267734.8799672734\n",
      "**************************************************\n"
     ]
    }
   ],
   "source": [
    "best_mse,best_rf,best_parameter = runRandomForest(X_train_norm,y_train,X_val_norm,y_val)"
   ]
  },
  {
   "cell_type": "code",
   "execution_count": 38,
   "metadata": {
    "id": "i-bviKqt-EXt"
   },
   "outputs": [
    {
     "name": "stdout",
     "output_type": "stream",
     "text": [
      "중고차 낙찰가 MSE:  188093285738.11667\n",
      "중고차 낙찰가 MAE:  267734.8799672734\n",
      "Best parameters : [ n_estimator :300 ,  max_depth :30 ]\n"
     ]
    }
   ],
   "source": [
    "predicted = best_rf.predict(X_val_norm) \n",
    "\n",
    "print('중고차 낙찰가 MSE: ',np.mean(np.square(predicted-y_val)))\n",
    "print('중고차 낙찰가 MAE: ',np.mean(np.abs(predicted-y_val)))\n",
    "print('Best parameters : [', best_parameter[0], ', ',best_parameter[1],']' )"
   ]
  },
  {
   "cell_type": "code",
   "execution_count": 39,
   "metadata": {
    "colab": {
     "base_uri": "https://localhost:8080/",
     "height": 203
    },
    "id": "fMVOjmcr-O5d",
    "outputId": "5319714e-7286-432b-8511-678d4da2058c"
   },
   "outputs": [
    {
     "name": "stderr",
     "output_type": "stream",
     "text": [
      "C:\\ProgramData\\Anaconda3\\envs\\tfenv\\lib\\site-packages\\matplotlib\\backends\\backend_agg.py:214: RuntimeWarning: Glyph 48277 missing from current font.\n",
      "  font.set_text(s, 0.0, flags=flags)\n",
      "C:\\ProgramData\\Anaconda3\\envs\\tfenv\\lib\\site-packages\\matplotlib\\backends\\backend_agg.py:214: RuntimeWarning: Glyph 51064 missing from current font.\n",
      "  font.set_text(s, 0.0, flags=flags)\n",
      "C:\\ProgramData\\Anaconda3\\envs\\tfenv\\lib\\site-packages\\matplotlib\\backends\\backend_agg.py:214: RuntimeWarning: Glyph 49345 missing from current font.\n",
      "  font.set_text(s, 0.0, flags=flags)\n",
      "C:\\ProgramData\\Anaconda3\\envs\\tfenv\\lib\\site-packages\\matplotlib\\backends\\backend_agg.py:214: RuntimeWarning: Glyph 54408 missing from current font.\n",
      "  font.set_text(s, 0.0, flags=flags)\n",
      "C:\\ProgramData\\Anaconda3\\envs\\tfenv\\lib\\site-packages\\matplotlib\\backends\\backend_agg.py:214: RuntimeWarning: Glyph 47116 missing from current font.\n",
      "  font.set_text(s, 0.0, flags=flags)\n",
      "C:\\ProgramData\\Anaconda3\\envs\\tfenv\\lib\\site-packages\\matplotlib\\backends\\backend_agg.py:214: RuntimeWarning: Glyph 53944 missing from current font.\n",
      "  font.set_text(s, 0.0, flags=flags)\n",
      "C:\\ProgramData\\Anaconda3\\envs\\tfenv\\lib\\site-packages\\matplotlib\\backends\\backend_agg.py:214: RuntimeWarning: Glyph 51088 missing from current font.\n",
      "  font.set_text(s, 0.0, flags=flags)\n",
      "C:\\ProgramData\\Anaconda3\\envs\\tfenv\\lib\\site-packages\\matplotlib\\backends\\backend_agg.py:214: RuntimeWarning: Glyph 44032 missing from current font.\n",
      "  font.set_text(s, 0.0, flags=flags)\n",
      "C:\\ProgramData\\Anaconda3\\envs\\tfenv\\lib\\site-packages\\matplotlib\\backends\\backend_agg.py:214: RuntimeWarning: Glyph 47532 missing from current font.\n",
      "  font.set_text(s, 0.0, flags=flags)\n",
      "C:\\ProgramData\\Anaconda3\\envs\\tfenv\\lib\\site-packages\\matplotlib\\backends\\backend_agg.py:214: RuntimeWarning: Glyph 49828 missing from current font.\n",
      "  font.set_text(s, 0.0, flags=flags)\n",
      "C:\\ProgramData\\Anaconda3\\envs\\tfenv\\lib\\site-packages\\matplotlib\\backends\\backend_agg.py:214: RuntimeWarning: Glyph 44060 missing from current font.\n",
      "  font.set_text(s, 0.0, flags=flags)\n",
      "C:\\ProgramData\\Anaconda3\\envs\\tfenv\\lib\\site-packages\\matplotlib\\backends\\backend_agg.py:214: RuntimeWarning: Glyph 50629 missing from current font.\n",
      "  font.set_text(s, 0.0, flags=flags)\n",
      "C:\\ProgramData\\Anaconda3\\envs\\tfenv\\lib\\site-packages\\matplotlib\\backends\\backend_agg.py:214: RuntimeWarning: Glyph 47924 missing from current font.\n",
      "  font.set_text(s, 0.0, flags=flags)\n",
      "C:\\ProgramData\\Anaconda3\\envs\\tfenv\\lib\\site-packages\\matplotlib\\backends\\backend_agg.py:214: RuntimeWarning: Glyph 50857 missing from current font.\n",
      "  font.set_text(s, 0.0, flags=flags)\n",
      "C:\\ProgramData\\Anaconda3\\envs\\tfenv\\lib\\site-packages\\matplotlib\\backends\\backend_agg.py:214: RuntimeWarning: Glyph 51116 missing from current font.\n",
      "  font.set_text(s, 0.0, flags=flags)\n",
      "C:\\ProgramData\\Anaconda3\\envs\\tfenv\\lib\\site-packages\\matplotlib\\backends\\backend_agg.py:214: RuntimeWarning: Glyph 50808 missing from current font.\n",
      "  font.set_text(s, 0.0, flags=flags)\n",
      "C:\\ProgramData\\Anaconda3\\envs\\tfenv\\lib\\site-packages\\matplotlib\\backends\\backend_agg.py:214: RuntimeWarning: Glyph 44397 missing from current font.\n",
      "  font.set_text(s, 0.0, flags=flags)\n",
      "C:\\ProgramData\\Anaconda3\\envs\\tfenv\\lib\\site-packages\\matplotlib\\backends\\backend_agg.py:214: RuntimeWarning: Glyph 49324 missing from current font.\n",
      "  font.set_text(s, 0.0, flags=flags)\n",
      "C:\\ProgramData\\Anaconda3\\envs\\tfenv\\lib\\site-packages\\matplotlib\\backends\\backend_agg.py:214: RuntimeWarning: Glyph 51333 missing from current font.\n",
      "  font.set_text(s, 0.0, flags=flags)\n",
      "C:\\ProgramData\\Anaconda3\\envs\\tfenv\\lib\\site-packages\\matplotlib\\backends\\backend_agg.py:214: RuntimeWarning: Glyph 44368 missing from current font.\n",
      "  font.set_text(s, 0.0, flags=flags)\n",
      "C:\\ProgramData\\Anaconda3\\envs\\tfenv\\lib\\site-packages\\matplotlib\\backends\\backend_agg.py:214: RuntimeWarning: Glyph 45800 missing from current font.\n",
      "  font.set_text(s, 0.0, flags=flags)\n",
      "C:\\ProgramData\\Anaconda3\\envs\\tfenv\\lib\\site-packages\\matplotlib\\backends\\backend_agg.py:214: RuntimeWarning: Glyph 52404 missing from current font.\n",
      "  font.set_text(s, 0.0, flags=flags)\n",
      "C:\\ProgramData\\Anaconda3\\envs\\tfenv\\lib\\site-packages\\matplotlib\\backends\\backend_agg.py:183: RuntimeWarning: Glyph 48277 missing from current font.\n",
      "  font.set_text(s, 0, flags=flags)\n",
      "C:\\ProgramData\\Anaconda3\\envs\\tfenv\\lib\\site-packages\\matplotlib\\backends\\backend_agg.py:183: RuntimeWarning: Glyph 51064 missing from current font.\n",
      "  font.set_text(s, 0, flags=flags)\n",
      "C:\\ProgramData\\Anaconda3\\envs\\tfenv\\lib\\site-packages\\matplotlib\\backends\\backend_agg.py:183: RuntimeWarning: Glyph 49345 missing from current font.\n",
      "  font.set_text(s, 0, flags=flags)\n",
      "C:\\ProgramData\\Anaconda3\\envs\\tfenv\\lib\\site-packages\\matplotlib\\backends\\backend_agg.py:183: RuntimeWarning: Glyph 54408 missing from current font.\n",
      "  font.set_text(s, 0, flags=flags)\n",
      "C:\\ProgramData\\Anaconda3\\envs\\tfenv\\lib\\site-packages\\matplotlib\\backends\\backend_agg.py:183: RuntimeWarning: Glyph 47116 missing from current font.\n",
      "  font.set_text(s, 0, flags=flags)\n",
      "C:\\ProgramData\\Anaconda3\\envs\\tfenv\\lib\\site-packages\\matplotlib\\backends\\backend_agg.py:183: RuntimeWarning: Glyph 53944 missing from current font.\n",
      "  font.set_text(s, 0, flags=flags)\n",
      "C:\\ProgramData\\Anaconda3\\envs\\tfenv\\lib\\site-packages\\matplotlib\\backends\\backend_agg.py:183: RuntimeWarning: Glyph 51088 missing from current font.\n",
      "  font.set_text(s, 0, flags=flags)\n",
      "C:\\ProgramData\\Anaconda3\\envs\\tfenv\\lib\\site-packages\\matplotlib\\backends\\backend_agg.py:183: RuntimeWarning: Glyph 44032 missing from current font.\n",
      "  font.set_text(s, 0, flags=flags)\n",
      "C:\\ProgramData\\Anaconda3\\envs\\tfenv\\lib\\site-packages\\matplotlib\\backends\\backend_agg.py:183: RuntimeWarning: Glyph 47532 missing from current font.\n",
      "  font.set_text(s, 0, flags=flags)\n",
      "C:\\ProgramData\\Anaconda3\\envs\\tfenv\\lib\\site-packages\\matplotlib\\backends\\backend_agg.py:183: RuntimeWarning: Glyph 49828 missing from current font.\n",
      "  font.set_text(s, 0, flags=flags)\n",
      "C:\\ProgramData\\Anaconda3\\envs\\tfenv\\lib\\site-packages\\matplotlib\\backends\\backend_agg.py:183: RuntimeWarning: Glyph 44060 missing from current font.\n",
      "  font.set_text(s, 0, flags=flags)\n",
      "C:\\ProgramData\\Anaconda3\\envs\\tfenv\\lib\\site-packages\\matplotlib\\backends\\backend_agg.py:183: RuntimeWarning: Glyph 50629 missing from current font.\n",
      "  font.set_text(s, 0, flags=flags)\n",
      "C:\\ProgramData\\Anaconda3\\envs\\tfenv\\lib\\site-packages\\matplotlib\\backends\\backend_agg.py:183: RuntimeWarning: Glyph 47924 missing from current font.\n",
      "  font.set_text(s, 0, flags=flags)\n",
      "C:\\ProgramData\\Anaconda3\\envs\\tfenv\\lib\\site-packages\\matplotlib\\backends\\backend_agg.py:183: RuntimeWarning: Glyph 50857 missing from current font.\n",
      "  font.set_text(s, 0, flags=flags)\n",
      "C:\\ProgramData\\Anaconda3\\envs\\tfenv\\lib\\site-packages\\matplotlib\\backends\\backend_agg.py:183: RuntimeWarning: Glyph 51116 missing from current font.\n",
      "  font.set_text(s, 0, flags=flags)\n",
      "C:\\ProgramData\\Anaconda3\\envs\\tfenv\\lib\\site-packages\\matplotlib\\backends\\backend_agg.py:183: RuntimeWarning: Glyph 50808 missing from current font.\n",
      "  font.set_text(s, 0, flags=flags)\n",
      "C:\\ProgramData\\Anaconda3\\envs\\tfenv\\lib\\site-packages\\matplotlib\\backends\\backend_agg.py:183: RuntimeWarning: Glyph 44397 missing from current font.\n",
      "  font.set_text(s, 0, flags=flags)\n",
      "C:\\ProgramData\\Anaconda3\\envs\\tfenv\\lib\\site-packages\\matplotlib\\backends\\backend_agg.py:183: RuntimeWarning: Glyph 49324 missing from current font.\n",
      "  font.set_text(s, 0, flags=flags)\n",
      "C:\\ProgramData\\Anaconda3\\envs\\tfenv\\lib\\site-packages\\matplotlib\\backends\\backend_agg.py:183: RuntimeWarning: Glyph 51333 missing from current font.\n",
      "  font.set_text(s, 0, flags=flags)\n",
      "C:\\ProgramData\\Anaconda3\\envs\\tfenv\\lib\\site-packages\\matplotlib\\backends\\backend_agg.py:183: RuntimeWarning: Glyph 44368 missing from current font.\n",
      "  font.set_text(s, 0, flags=flags)\n",
      "C:\\ProgramData\\Anaconda3\\envs\\tfenv\\lib\\site-packages\\matplotlib\\backends\\backend_agg.py:183: RuntimeWarning: Glyph 45800 missing from current font.\n",
      "  font.set_text(s, 0, flags=flags)\n",
      "C:\\ProgramData\\Anaconda3\\envs\\tfenv\\lib\\site-packages\\matplotlib\\backends\\backend_agg.py:183: RuntimeWarning: Glyph 52404 missing from current font.\n",
      "  font.set_text(s, 0, flags=flags)\n"
     ]
    },
    {
     "data": {
      "image/png": "[encoded data removed]",
      "text/plain": [
       "<Figure size 720x720 with 1 Axes>"
      ]
     },
     "metadata": {
      "needs_background": "light"
     },
     "output_type": "display_data"
    }
   ],
   "source": [
    "def plot_feature_importance(importance_, features_,model_type):\n",
    "      dict_ = {'feature importance' : importance_, 'features' : features_}\n",
    "      df = pd.DataFrame(dict_)\n",
    "      df.sort_values(by=['feature importance'], ascending=False,inplace=True)\n",
    "      plt.figure(figsize=(10,10))\n",
    "      sns.barplot(x=df['feature importance'], y=df['features'])\n",
    "      plt.title(model_type + 'FEATURE IMPORTANCE')\n",
    "      plt.xlabel('FEATURE IMPORTANCE')\n",
    "      plt.ylabel('FEATURE NAMES')\n",
    "\n",
    "      \n",
    "plot_feature_importance(best_rf.feature_importances_, X_val.columns, 'RANDOM FOREST ')"
   ]
  },
  {
   "cell_type": "code",
   "execution_count": 40,
   "metadata": {
    "colab": {
     "base_uri": "https://localhost:8080/",
     "height": 237
    },
    "id": "_Vb0Rts3P3F2",
    "outputId": "0f02f5d7-6637-4867-a99c-b08569f1a9d1"
   },
   "outputs": [],
   "source": [
    "# rf의 feature importance로 확인한 상위 변수만을 selection 하여 , 좀더 generalize한 모델을 학습\n",
    "#selected_col = ['SUCCPRIC_by_Car_NMFUEL_mean','SUCCPRIC_by_Car_NMYEAR_mean','TRAVDIST',\n",
    "#                'Car_price','COMFORTOP','DAY','SUCCPRIC_by_Car_NMFUEL_std','ACCI1','ACCI4','SUCCPRIC_by_Car_NMYEAR_std','SUCCPRIC_by_Car_NMYEAR_std']\n",
    "               \n",
    "#X_train_norm_sel = X_train_norm.loc[:,selected_col]\n",
    "#X_val_norm_sel = X_val_norm.loc[:,selected_col]\n",
    "#best_mse2,best_rf2,best_parameter2 = runRandomForest(X_train_norm_sel,y_train,X_val_norm_sel,y_val)"
   ]
  },
  {
   "cell_type": "code",
   "execution_count": 41,
   "metadata": {
    "colab": {
     "base_uri": "https://localhost:8080/",
     "height": 237
    },
    "id": "2T-HxbsMP8qa",
    "outputId": "a64de7e7-a5c6-4460-c57d-e9104a47b0a3"
   },
   "outputs": [],
   "source": [
    "#predicted = best_rf2.predict(X_val_norm_sel)\n",
    "\n",
    "#print('중고차 낙찰가 MSE: ',np.mean(np.square(predicted-y_val)))\n",
    "#print('중고차 낙찰가 MAE: ',np.mean(np.abs(predicted-y_val)))\n",
    "#print('Best parameters : [', best_parameter2[0], ', ',best_parameter2[1],']' )"
   ]
  },
  {
   "cell_type": "code",
   "execution_count": 42,
   "metadata": {
    "colab": {
     "base_uri": "https://localhost:8080/",
     "height": 168
    },
    "id": "Mtn4dR-QP-ta",
    "outputId": "aeff9d97-9390-4d4a-9003-79a260cae580"
   },
   "outputs": [],
   "source": [
    "#plot_feature_importance(best_rf2.feature_importances_, X_val_norm_sel.columns, 'RANDOM FOREST ')"
   ]
  },
  {
   "cell_type": "markdown",
   "metadata": {
    "id": "hPYIrwguzpHu"
   },
   "source": []
  },
  {
   "cell_type": "markdown",
   "metadata": {
    "id": "L-fQ5c7lnwOx"
   },
   "source": []
  },
  {
   "cell_type": "markdown",
   "metadata": {
    "id": "UeLpAeWVo1rW"
   },
   "source": [
    "## 3. System Implementation\n",
    "- df_test에 기반하여 실제 사용을 위한 system implemetation 작업 진행"
   ]
  },
  {
   "cell_type": "code",
   "execution_count": 43,
   "metadata": {
    "id": "RRA4NsM_k-W5"
   },
   "outputs": [],
   "source": [
    "def remove_test_outliers(df_):\n",
    "    outliers1 = np.where((df_['EXHA']<lb_1)|(df_['EXHA']>ub_1))\n",
    "    outliers2 = np.where((df_['TRAVDIST']<lb_2)|(df_['TRAVDIST']>ub_2))\n",
    "    outliers3 = np.where((df_['NC_GRADE_PRICE']>ub_3))\n",
    "    outliers4 = np.where((df_['SHIPPING_PRICE']<5000000)|(df_['SHIPPING_PRICE']>ub_4))\n",
    "    outliers5 = np.where((df_['NEWCARPRIC']<5000000)|(df_['NEWCARPRIC']>ub_5))\n",
    "    #outliers6 = np.where((df_['SUCCPRIC']>ub_6)) \n",
    "    \n",
    "    df_['EXHA'][outliers1[0]]= np.nan\n",
    "    df_['TRAVDIST'][outliers2[0]]=np.nan\n",
    "    df_['NC_GRADE_PRICE'][outliers3[0]]=np.nan\n",
    "    df_['SHIPPING_PRICE'][outliers4[0]]=np.nan\n",
    "    df_['NEWCARPRIC'][outliers5[0]]=np.nan\n",
    "    #df_['SUCCPRIC'][outliers6[0]]=np.nan  \n",
    "    \n",
    "    return df_"
   ]
  },
  {
   "cell_type": "code",
   "execution_count": 44,
   "metadata": {
    "colab": {
     "base_uri": "https://localhost:8080/",
     "height": 1000
    },
    "id": "J4LA3S3y84xD",
    "outputId": "bf2f169e-ba02-47cb-8f10-d8640b380fc4"
   },
   "outputs": [
    {
     "name": "stderr",
     "output_type": "stream",
     "text": [
      "C:\\ProgramData\\Anaconda3\\envs\\tfenv\\lib\\site-packages\\ipykernel_launcher.py:19: SettingWithCopyWarning: \n",
      "A value is trying to be set on a copy of a slice from a DataFrame\n",
      "\n",
      "See the caveats in the documentation: https://pandas.pydata.org/pandas-docs/stable/user_guide/indexing.html#returning-a-view-versus-a-copy\n",
      "C:\\ProgramData\\Anaconda3\\envs\\tfenv\\lib\\site-packages\\ipykernel_launcher.py:21: SettingWithCopyWarning: \n",
      "A value is trying to be set on a copy of a slice from a DataFrame\n",
      "\n",
      "See the caveats in the documentation: https://pandas.pydata.org/pandas-docs/stable/user_guide/indexing.html#returning-a-view-versus-a-copy\n",
      "C:\\ProgramData\\Anaconda3\\envs\\tfenv\\lib\\site-packages\\ipykernel_launcher.py:25: SettingWithCopyWarning: \n",
      "A value is trying to be set on a copy of a slice from a DataFrame\n",
      "\n",
      "See the caveats in the documentation: https://pandas.pydata.org/pandas-docs/stable/user_guide/indexing.html#returning-a-view-versus-a-copy\n",
      "C:\\ProgramData\\Anaconda3\\envs\\tfenv\\lib\\site-packages\\ipykernel_launcher.py:27: SettingWithCopyWarning: \n",
      "A value is trying to be set on a copy of a slice from a DataFrame\n",
      "\n",
      "See the caveats in the documentation: https://pandas.pydata.org/pandas-docs/stable/user_guide/indexing.html#returning-a-view-versus-a-copy\n",
      "  0%|                                                                                          | 0/140 [00:00<?, ?it/s]C:\\ProgramData\\Anaconda3\\envs\\tfenv\\lib\\site-packages\\ipykernel_launcher.py:22: SettingWithCopyWarning: \n",
      "A value is trying to be set on a copy of a slice from a DataFrame\n",
      "\n",
      "See the caveats in the documentation: https://pandas.pydata.org/pandas-docs/stable/user_guide/indexing.html#returning-a-view-versus-a-copy\n",
      "C:\\ProgramData\\Anaconda3\\envs\\tfenv\\lib\\site-packages\\ipykernel_launcher.py:16: SettingWithCopyWarning: \n",
      "A value is trying to be set on a copy of a slice from a DataFrame\n",
      "\n",
      "See the caveats in the documentation: https://pandas.pydata.org/pandas-docs/stable/user_guide/indexing.html#returning-a-view-versus-a-copy\n",
      "  app.launch_new_instance()\n",
      "C:\\ProgramData\\Anaconda3\\envs\\tfenv\\lib\\site-packages\\ipykernel_launcher.py:10: SettingWithCopyWarning: \n",
      "A value is trying to be set on a copy of a slice from a DataFrame\n",
      "\n",
      "See the caveats in the documentation: https://pandas.pydata.org/pandas-docs/stable/user_guide/indexing.html#returning-a-view-versus-a-copy\n",
      "  # Remove the CWD from sys.path while we load stuff.\n",
      "100%|██████████████████████████████████████████████████████████████████████████████| 140/140 [00:00<00:00, 4057.31it/s]"
     ]
    },
    {
     "name": "stdout",
     "output_type": "stream",
     "text": [
      "column USEUSENM have 1 null value \n",
      "\n",
      "column NEWCARPRIC have 9 null value \n",
      "\n",
      "column SHIPPING_PRICE have 1 null value \n",
      "\n",
      "AxesSubplot(0.125,0.125;0.698618x0.755)\n",
      "GOODNO                              0\n",
      "SUCCYMD                             0\n",
      "CARNM                               0\n",
      "CHASNO                              0\n",
      "CARREGIYMD                          0\n",
      "YEAR                                0\n",
      "MISSNM                              0\n",
      "FUELNM                              0\n",
      "COLOR                               0\n",
      "EXHA                                0\n",
      "TRAVDIST                            0\n",
      "USEUSENM                            1\n",
      "OWNECLASNM                          0\n",
      "INNEEXPOCLASCD_YN                   0\n",
      "NEWCARPRIC                          9\n",
      "SUCCPRIC                            0\n",
      "YEARCHK                             0\n",
      "BONET                               0\n",
      "FRONT_LEFT_FENDER                   0\n",
      "FRONT_RIGHT_FENDER                  0\n",
      "FRONT_LEFT_DOOR                     0\n",
      "FRONT_RIGHT_DOOR                    0\n",
      "BACK_LEFT_DOOR                      0\n",
      "BACK_RIGHT_DOOR                     0\n",
      "TRUNK                               0\n",
      "FRONT_PANNEL                        0\n",
      "LEFT_STEP                           0\n",
      "RIGHT_STEP                          0\n",
      "LEFT_FILER_A                        0\n",
      "RIGHT_FILER_A                       0\n",
      "LEFT_FILER_B                        0\n",
      "RIGHT_FILER_B                       0\n",
      "LEFT_FILER_C                        0\n",
      "RIGHT_FILER_C                       0\n",
      "LEFT_REAR_FENDER                    0\n",
      "RIGHT_REAR_FENDER                   0\n",
      "BACK_PANEL1                         0\n",
      "LEFT_INSIDE_PANEL                   0\n",
      "RIGHT_INSIDE_PANEL                  0\n",
      "LEFT_WHEEL_HOUSE                    0\n",
      "RIGHT_WHEEL_HOUSE                   0\n",
      "LEFT_INSIDE_WHEEL_HOUSE             0\n",
      "RIGHT_INSIDE_WHEEL_HOUSE            0\n",
      "LEFT_REAR_WHEEL_HOUSE               0\n",
      "RIGHT_REAR_WHEEL_HOUSE              0\n",
      "TRUNK_FLOOR                         0\n",
      "DASH_PANEL                          0\n",
      "SHEET_PANEL                         0\n",
      "SIDE_MEMBER_FRAME                   0\n",
      "LEFT_QUARTER                        0\n",
      "RIGHT_QUARTER                       0\n",
      "FLOOR_PANEL                         0\n",
      "LEFT_SIDE_PANEL                     0\n",
      "RIGHT_SIDE_PANEL                    0\n",
      "LEFT_REAR_CORNER_PANEL              0\n",
      "RIGHT_REAR_CORNER_PANEL             0\n",
      "BACK_PANEL2                         0\n",
      "LEFT_CORNER_PANEL                   0\n",
      "RIGHT_CORNER_PANEL                  0\n",
      "LEFT_SKIRT_PANEL                    0\n",
      "RIGHT_SKIRT_PANEL                   0\n",
      "SIDE_MEMBER_FRAME2                  0\n",
      "LEFT_INSIDE_SHEETING                0\n",
      "RIGHT_INSIDE_SHEETING               0\n",
      "LEFT_WHEEL_HOUSE_SHEETING           0\n",
      "RIGHT_WHEEL_HOUSE_SHEETING          0\n",
      "LEFT_REAR_INSIDE_PANEL_SHEETING     0\n",
      "RIGHT_REAR_INSIDE_PANEL_SHEETING    0\n",
      "LEFT_REAR_WHEEL_HOUSE_SHEETING      0\n",
      "RIGHT_REAR_WHEEL_HOUSE_SHEETING     0\n",
      "TRUNK_FLOOR_SHEETING                0\n",
      "DASH_PANEL_SHEETING                 0\n",
      "SHEET_BACK_PANEL_SHEETING           0\n",
      "SIDE_MEMBER_FRAME_SHEETING          0\n",
      "FLOOR_PANEL_SHEETING                0\n",
      "LEFT_SIDE_PANEL_SHEETING            0\n",
      "RIGHT_SIDE_PANEL_SHEETING           0\n",
      "FLOODING                            0\n",
      "TOTAL_LOSS                          0\n",
      "JOINCAR                             0\n",
      "NOTAVAILABLE                        0\n",
      "MF_KEY                              0\n",
      "MJ_MODEL_KEY                        0\n",
      "DT_MODEL_KEY                        0\n",
      "MJ_GRADE_KEY                        0\n",
      "DT_GRADE_KEY                        0\n",
      "NC_GRADE_KEY                        0\n",
      "SHIPPING_PRICE                      1\n",
      "NC_GRADE_PRICE                      0\n",
      "ABS                                 0\n",
      "AB2                                 0\n",
      "NAVIGATION                          0\n",
      "VDC                                 0\n",
      "SMARTKEY                            0\n",
      "SUNLOOPPANORAMA                     0\n",
      "SUNLOOPCOMMON                       0\n",
      "SUNLOOPDUAL                         0\n",
      "DIS                                 0\n",
      "TCS                                 0\n",
      "AB1                                 0\n",
      "ETC                                 0\n",
      "AV                                  0\n",
      "EPS                                 0\n",
      "ECS                                 0\n",
      "dtype: int64\n",
      "GOODNO                                      object\n",
      "SUCCYMD                             datetime64[ns]\n",
      "CARNM                                       object\n",
      "CHASNO                                      object\n",
      "CARREGIYMD                          datetime64[ns]\n",
      "YEAR                                        object\n",
      "MISSNM                                      object\n",
      "FUELNM                                      object\n",
      "COLOR                                       object\n",
      "EXHA                                         int64\n",
      "TRAVDIST                                     int64\n",
      "USEUSENM                                    object\n",
      "OWNECLASNM                                  object\n",
      "INNEEXPOCLASCD_YN                           object\n",
      "NEWCARPRIC                                 float64\n",
      "SUCCPRIC                                     int64\n",
      "YEARCHK                                     object\n",
      "BONET                                        int64\n",
      "FRONT_LEFT_FENDER                            int64\n",
      "FRONT_RIGHT_FENDER                           int64\n",
      "FRONT_LEFT_DOOR                              int64\n",
      "FRONT_RIGHT_DOOR                             int64\n",
      "BACK_LEFT_DOOR                               int64\n",
      "BACK_RIGHT_DOOR                              int64\n",
      "TRUNK                                        int64\n",
      "FRONT_PANNEL                                 int64\n",
      "LEFT_STEP                                    int64\n",
      "RIGHT_STEP                                   int64\n",
      "LEFT_FILER_A                                 int64\n",
      "RIGHT_FILER_A                                int64\n",
      "LEFT_FILER_B                                 int64\n",
      "RIGHT_FILER_B                                int64\n",
      "LEFT_FILER_C                                 int64\n",
      "RIGHT_FILER_C                                int64\n",
      "LEFT_REAR_FENDER                             int64\n",
      "RIGHT_REAR_FENDER                            int64\n",
      "BACK_PANEL1                                  int64\n",
      "LEFT_INSIDE_PANEL                            int64\n",
      "RIGHT_INSIDE_PANEL                           int64\n",
      "LEFT_WHEEL_HOUSE                             int64\n",
      "RIGHT_WHEEL_HOUSE                            int64\n",
      "LEFT_INSIDE_WHEEL_HOUSE                      int64\n",
      "RIGHT_INSIDE_WHEEL_HOUSE                     int64\n",
      "LEFT_REAR_WHEEL_HOUSE                        int64\n",
      "RIGHT_REAR_WHEEL_HOUSE                       int64\n",
      "TRUNK_FLOOR                                  int64\n",
      "DASH_PANEL                                   int64\n",
      "SHEET_PANEL                                  int64\n",
      "SIDE_MEMBER_FRAME                            int64\n",
      "LEFT_QUARTER                                 int64\n",
      "RIGHT_QUARTER                                int64\n",
      "FLOOR_PANEL                                  int64\n",
      "LEFT_SIDE_PANEL                              int64\n",
      "RIGHT_SIDE_PANEL                             int64\n",
      "LEFT_REAR_CORNER_PANEL                       int64\n",
      "RIGHT_REAR_CORNER_PANEL                      int64\n",
      "BACK_PANEL2                                  int64\n",
      "LEFT_CORNER_PANEL                            int64\n",
      "RIGHT_CORNER_PANEL                           int64\n",
      "LEFT_SKIRT_PANEL                             int64\n",
      "RIGHT_SKIRT_PANEL                            int64\n",
      "SIDE_MEMBER_FRAME2                           int64\n",
      "LEFT_INSIDE_SHEETING                         int64\n",
      "RIGHT_INSIDE_SHEETING                        int64\n",
      "LEFT_WHEEL_HOUSE_SHEETING                    int64\n",
      "RIGHT_WHEEL_HOUSE_SHEETING                   int64\n",
      "LEFT_REAR_INSIDE_PANEL_SHEETING              int64\n",
      "RIGHT_REAR_INSIDE_PANEL_SHEETING             int64\n",
      "LEFT_REAR_WHEEL_HOUSE_SHEETING               int64\n",
      "RIGHT_REAR_WHEEL_HOUSE_SHEETING              int64\n",
      "TRUNK_FLOOR_SHEETING                         int64\n",
      "DASH_PANEL_SHEETING                          int64\n",
      "SHEET_BACK_PANEL_SHEETING                    int64\n",
      "SIDE_MEMBER_FRAME_SHEETING                   int64\n",
      "FLOOR_PANEL_SHEETING                         int64\n",
      "LEFT_SIDE_PANEL_SHEETING                     int64\n",
      "RIGHT_SIDE_PANEL_SHEETING                    int64\n",
      "FLOODING                                     int64\n",
      "TOTAL_LOSS                                   int64\n",
      "JOINCAR                                      int64\n",
      "NOTAVAILABLE                                 int64\n",
      "MF_KEY                                      object\n",
      "MJ_MODEL_KEY                                object\n",
      "DT_MODEL_KEY                                object\n",
      "MJ_GRADE_KEY                                object\n",
      "DT_GRADE_KEY                                object\n",
      "NC_GRADE_KEY                                object\n",
      "SHIPPING_PRICE                             float64\n",
      "NC_GRADE_PRICE                               int64\n",
      "ABS                                          int64\n",
      "AB2                                          int64\n",
      "NAVIGATION                                   int64\n",
      "VDC                                          int64\n",
      "SMARTKEY                                     int64\n",
      "SUNLOOPPANORAMA                              int64\n",
      "SUNLOOPCOMMON                                int64\n",
      "SUNLOOPDUAL                                  int64\n",
      "DIS                                          int64\n",
      "TCS                                          int64\n",
      "AB1                                          int64\n",
      "ETC                                          int64\n",
      "AV                                           int64\n",
      "EPS                                          int64\n",
      "ECS                                          int64\n",
      "dtype: object\n"
     ]
    },
    {
     "name": "stderr",
     "output_type": "stream",
     "text": [
      "\n"
     ]
    },
    {
     "data": {
      "image/png": "[encoded data removed]",
      "text/plain": [
       "<Figure size 1800x720 with 2 Axes>"
      ]
     },
     "metadata": {
      "needs_background": "light"
     },
     "output_type": "display_data"
    }
   ],
   "source": [
    "# df_test = pd.read_csv('./ADX/Data_UsedCarPrediction/Kia_testset.csv', encoding ='cp949')  # 한글 Encoding 문제로 encoding = 'cp949'\n",
    "# y_real = []\n",
    "# for i in np.array(df_test.loc[:, 'SUCCPRIC']) :\n",
    "#    y_real.append(i)\n",
    "\n",
    "df_test_= df_test.copy()\n",
    "df_test_ = NullFunc(df_test_)\n",
    "df_test_=ChangeType(df_test_)\n",
    "##############################\n",
    "#remove_test_outliers(df_test_)\n",
    "#############################\n",
    "\n",
    "df_test_ = cal_accidents(df_test_)\n",
    "df_test_ = cal_options(df_test_)\n",
    "df_test_ = car_name_split(df_test_)\n",
    "#df_test_ = remove_outliers_test(df_test_, lb_1, ub_1, lb_2, ub_2, ub_3 ,lb_4, ub_4, lb_5, ub_5, ub_6)\n",
    "df_test_ = set_price_mean_test(df_test_,df_ship_price_mean, df_nc_price_mean, df_new_price_mean)\n",
    "df_test_ = set_car_price(df_test_)\n",
    "df_test_ = car_year_name(df_test_)\n",
    "df_test_ = set_SUCCPRIC_mean_test(df_test_,df_SUCCPRIC_mean_by_NMFUEL, df_SUCCPRIC_std_by_NMFUEL, df_SUCCPRIC_mean_by_NMYEAR, df_SUCCPRIC_std_by_NMYEAR)\n",
    "df_test_.set_index('GOODNO', inplace=True)\n",
    "df_test_ = make_day(df_test_)\n",
    "df_test_ = remove_column(df_test_)"
   ]
  },
  {
   "cell_type": "code",
   "execution_count": 45,
   "metadata": {
    "id": "NZvN9VQxHI2C"
   },
   "outputs": [],
   "source": [
    "#df_test_.dtypes"
   ]
  },
  {
   "cell_type": "code",
   "execution_count": 46,
   "metadata": {
    "id": "a2oJa61XHOIa"
   },
   "outputs": [],
   "source": [
    "df_test_ = make_cat(df_test_,CATEGORICAL)\n",
    "df_test_.isnull().sum()\n",
    "X_test = df_test_.copy()\n",
    "X_test_norm = X_test.copy()\n",
    "X_test_norm.loc[:, numerical_col] = z_normalize_val(X_test, numerical_col, cache)\n",
    "#test를 원핫인코딩 하면 categorical 변수의 수가 trainging data의 변수와 차이가 발생하므로\n",
    "#training data의 컬럼을 가져와서 test data에 기존 training 변수들을 추가\n",
    "final_df = pd.DataFrame(columns=X_train_norm.columns)\n",
    "final_df_ = pd.concat([final_df,X_test_norm],axis=0)"
   ]
  },
  {
   "cell_type": "code",
   "execution_count": 47,
   "metadata": {
    "colab": {
     "base_uri": "https://localhost:8080/",
     "height": 270
    },
    "id": "aeXmQgURhbYq",
    "outputId": "96581103-c3f4-4d0c-a3aa-43ed71b233cf"
   },
   "outputs": [
    {
     "data": {
      "text/html": [
       "<div>\n",
       "<style scoped>\n",
       "    .dataframe tbody tr th:only-of-type {\n",
       "        vertical-align: middle;\n",
       "    }\n",
       "\n",
       "    .dataframe tbody tr th {\n",
       "        vertical-align: top;\n",
       "    }\n",
       "\n",
       "    .dataframe thead th {\n",
       "        text-align: right;\n",
       "    }\n",
       "</style>\n",
       "<table border=\"1\" class=\"dataframe\">\n",
       "  <thead>\n",
       "    <tr style=\"text-align: right;\">\n",
       "      <th></th>\n",
       "      <th>DAY</th>\n",
       "      <th>EXHA</th>\n",
       "      <th>TRAVDIST</th>\n",
       "      <th>ACCI1</th>\n",
       "      <th>ACCI2</th>\n",
       "      <th>ACCI3</th>\n",
       "      <th>ACCI4</th>\n",
       "      <th>TRASHCAR</th>\n",
       "      <th>SAFETYOP</th>\n",
       "      <th>DRIVEOP</th>\n",
       "      <th>...</th>\n",
       "      <th>개인</th>\n",
       "      <th>개인사업</th>\n",
       "      <th>법인</th>\n",
       "      <th>법인상품</th>\n",
       "      <th>상품용</th>\n",
       "      <th>재외국인</th>\n",
       "      <th>종교단체</th>\n",
       "      <th>0</th>\n",
       "      <th>1</th>\n",
       "      <th>SUCCPRIC</th>\n",
       "    </tr>\n",
       "  </thead>\n",
       "  <tbody>\n",
       "    <tr>\n",
       "      <th>1905C0426</th>\n",
       "      <td>0.155987</td>\n",
       "      <td>0.346321</td>\n",
       "      <td>1.436232</td>\n",
       "      <td>-0.814881</td>\n",
       "      <td>-0.334109</td>\n",
       "      <td>-0.195675</td>\n",
       "      <td>-0.607630</td>\n",
       "      <td>-0.250988</td>\n",
       "      <td>-0.794178</td>\n",
       "      <td>-0.05142</td>\n",
       "      <td>...</td>\n",
       "      <td>0</td>\n",
       "      <td>NaN</td>\n",
       "      <td>0</td>\n",
       "      <td>1</td>\n",
       "      <td>NaN</td>\n",
       "      <td>NaN</td>\n",
       "      <td>NaN</td>\n",
       "      <td>1</td>\n",
       "      <td>0</td>\n",
       "      <td>5600000.0</td>\n",
       "    </tr>\n",
       "    <tr>\n",
       "      <th>1905C0424</th>\n",
       "      <td>0.155987</td>\n",
       "      <td>0.346321</td>\n",
       "      <td>1.374814</td>\n",
       "      <td>-0.814881</td>\n",
       "      <td>-0.334109</td>\n",
       "      <td>-0.195675</td>\n",
       "      <td>-0.607630</td>\n",
       "      <td>-0.250988</td>\n",
       "      <td>-0.794178</td>\n",
       "      <td>-0.05142</td>\n",
       "      <td>...</td>\n",
       "      <td>0</td>\n",
       "      <td>NaN</td>\n",
       "      <td>0</td>\n",
       "      <td>1</td>\n",
       "      <td>NaN</td>\n",
       "      <td>NaN</td>\n",
       "      <td>NaN</td>\n",
       "      <td>1</td>\n",
       "      <td>0</td>\n",
       "      <td>5700000.0</td>\n",
       "    </tr>\n",
       "    <tr>\n",
       "      <th>1905C0431</th>\n",
       "      <td>0.155987</td>\n",
       "      <td>0.346321</td>\n",
       "      <td>1.550640</td>\n",
       "      <td>0.971415</td>\n",
       "      <td>-0.334109</td>\n",
       "      <td>-0.195675</td>\n",
       "      <td>2.509215</td>\n",
       "      <td>-0.250988</td>\n",
       "      <td>-0.794178</td>\n",
       "      <td>-0.05142</td>\n",
       "      <td>...</td>\n",
       "      <td>0</td>\n",
       "      <td>NaN</td>\n",
       "      <td>0</td>\n",
       "      <td>1</td>\n",
       "      <td>NaN</td>\n",
       "      <td>NaN</td>\n",
       "      <td>NaN</td>\n",
       "      <td>1</td>\n",
       "      <td>0</td>\n",
       "      <td>5700000.0</td>\n",
       "    </tr>\n",
       "    <tr>\n",
       "      <th>1905C0632</th>\n",
       "      <td>-0.525915</td>\n",
       "      <td>-0.239485</td>\n",
       "      <td>-1.054199</td>\n",
       "      <td>0.971415</td>\n",
       "      <td>-0.334109</td>\n",
       "      <td>-0.195675</td>\n",
       "      <td>0.950793</td>\n",
       "      <td>-0.250988</td>\n",
       "      <td>0.759138</td>\n",
       "      <td>-0.05142</td>\n",
       "      <td>...</td>\n",
       "      <td>0</td>\n",
       "      <td>NaN</td>\n",
       "      <td>0</td>\n",
       "      <td>1</td>\n",
       "      <td>NaN</td>\n",
       "      <td>NaN</td>\n",
       "      <td>NaN</td>\n",
       "      <td>1</td>\n",
       "      <td>1</td>\n",
       "      <td>13100000.0</td>\n",
       "    </tr>\n",
       "    <tr>\n",
       "      <th>1905C0268</th>\n",
       "      <td>-0.034211</td>\n",
       "      <td>2.274601</td>\n",
       "      <td>-0.814909</td>\n",
       "      <td>-0.814881</td>\n",
       "      <td>-0.334109</td>\n",
       "      <td>-0.195675</td>\n",
       "      <td>-0.607630</td>\n",
       "      <td>-0.250988</td>\n",
       "      <td>2.312455</td>\n",
       "      <td>-0.05142</td>\n",
       "      <td>...</td>\n",
       "      <td>0</td>\n",
       "      <td>NaN</td>\n",
       "      <td>0</td>\n",
       "      <td>1</td>\n",
       "      <td>NaN</td>\n",
       "      <td>NaN</td>\n",
       "      <td>NaN</td>\n",
       "      <td>1</td>\n",
       "      <td>0</td>\n",
       "      <td>25800000.0</td>\n",
       "    </tr>\n",
       "  </tbody>\n",
       "</table>\n",
       "<p>5 rows × 39 columns</p>\n",
       "</div>"
      ],
      "text/plain": [
       "                DAY      EXHA  TRAVDIST     ACCI1     ACCI2     ACCI3  \\\n",
       "1905C0426  0.155987  0.346321  1.436232 -0.814881 -0.334109 -0.195675   \n",
       "1905C0424  0.155987  0.346321  1.374814 -0.814881 -0.334109 -0.195675   \n",
       "1905C0431  0.155987  0.346321  1.550640  0.971415 -0.334109 -0.195675   \n",
       "1905C0632 -0.525915 -0.239485 -1.054199  0.971415 -0.334109 -0.195675   \n",
       "1905C0268 -0.034211  2.274601 -0.814909 -0.814881 -0.334109 -0.195675   \n",
       "\n",
       "              ACCI4  TRASHCAR  SAFETYOP  DRIVEOP  ...  개인  개인사업  법인  법인상품  \\\n",
       "1905C0426 -0.607630 -0.250988 -0.794178 -0.05142  ...   0   NaN   0     1   \n",
       "1905C0424 -0.607630 -0.250988 -0.794178 -0.05142  ...   0   NaN   0     1   \n",
       "1905C0431  2.509215 -0.250988 -0.794178 -0.05142  ...   0   NaN   0     1   \n",
       "1905C0632  0.950793 -0.250988  0.759138 -0.05142  ...   0   NaN   0     1   \n",
       "1905C0268 -0.607630 -0.250988  2.312455 -0.05142  ...   0   NaN   0     1   \n",
       "\n",
       "           상품용  재외국인 종교단체  0  1    SUCCPRIC  \n",
       "1905C0426  NaN   NaN  NaN  1  0   5600000.0  \n",
       "1905C0424  NaN   NaN  NaN  1  0   5700000.0  \n",
       "1905C0431  NaN   NaN  NaN  1  0   5700000.0  \n",
       "1905C0632  NaN   NaN  NaN  1  1  13100000.0  \n",
       "1905C0268  NaN   NaN  NaN  1  0  25800000.0  \n",
       "\n",
       "[5 rows x 39 columns]"
      ]
     },
     "execution_count": 47,
     "metadata": {},
     "output_type": "execute_result"
    }
   ],
   "source": [
    "final_df_.head()"
   ]
  },
  {
   "cell_type": "code",
   "execution_count": 48,
   "metadata": {
    "id": "3YXn9hYFQHEm"
   },
   "outputs": [],
   "source": [
    " y_real = []\n",
    "for i in np.array(final_df_.loc[:, 'SUCCPRIC']) :\n",
    "    y_real.append(i)\n",
    "\n",
    "\n",
    "final_df_.drop(['SUCCPRIC'],axis=1,inplace=True)\n",
    "#test에 없는 것들은 0값으로 입력(catergorical data만 없었기 때문)\n",
    "final_df_ = final_df_.fillna(0)\n",
    "\n"
   ]
  },
  {
   "cell_type": "code",
   "execution_count": 49,
   "metadata": {
    "id": "DOdgL83PQKOy"
   },
   "outputs": [],
   "source": [
    "#X_test_norm_sel = X_test_norm.loc[:,selected_col]"
   ]
  },
  {
   "cell_type": "code",
   "execution_count": 50,
   "metadata": {
    "id": "vpmEYS6iSnyB"
   },
   "outputs": [],
   "source": [
    "#final_df_.dtypes"
   ]
  },
  {
   "cell_type": "code",
   "execution_count": 51,
   "metadata": {
    "id": "3byBVkz6eM3D"
   },
   "outputs": [],
   "source": [
    "def eval_indicator(y_true , y_pred):\n",
    "    \n",
    "    from sklearn import metrics\n",
    "    import numpy as np \n",
    "    \n",
    "    def mape(y_true, y_pred): \n",
    "        y_true, y_pred = np.array(y_true), np.array(y_pred)\n",
    "        return np.mean(np.abs((y_true - y_pred) / y_true)) * 100\n",
    "    \n",
    "    MSE = metrics.mean_squared_error(y_true ,y_pred )\n",
    "    RMSE = np.sqrt(MSE)\n",
    "    MAE = metrics.mean_absolute_error(y_true ,y_pred )\n",
    "    MAPE = mape(y_true ,y_pred )\n",
    "    eval_ = {\"MSE\" : [MSE] , \"RMSE\" : [RMSE] , \"MAE\" : [MAE] , \"MAPE\" : [MAPE]}\n",
    "    eval_ = pd.DataFrame(eval_)\n",
    "    eval_.index = ['Values']\n",
    "    \n",
    "    return eval_"
   ]
  },
  {
   "cell_type": "markdown",
   "metadata": {
    "id": "HdksYbQ-ni5N"
   },
   "source": []
  },
  {
   "cell_type": "code",
   "execution_count": 52,
   "metadata": {
    "colab": {
     "base_uri": "https://localhost:8080/",
     "height": 114
    },
    "id": "GXVHvNt8QPMe",
    "outputId": "028696ce-47b1-43e4-a8e2-bf3f9056028c"
   },
   "outputs": [
    {
     "name": "stdout",
     "output_type": "stream",
     "text": [
      "중고차 TEST MSE:  265318963900706.34\n",
      "중고차 TEST MAE:  9165219.761904761\n"
     ]
    },
    {
     "data": {
      "text/html": [
       "<div>\n",
       "<style scoped>\n",
       "    .dataframe tbody tr th:only-of-type {\n",
       "        vertical-align: middle;\n",
       "    }\n",
       "\n",
       "    .dataframe tbody tr th {\n",
       "        vertical-align: top;\n",
       "    }\n",
       "\n",
       "    .dataframe thead th {\n",
       "        text-align: right;\n",
       "    }\n",
       "</style>\n",
       "<table border=\"1\" class=\"dataframe\">\n",
       "  <thead>\n",
       "    <tr style=\"text-align: right;\">\n",
       "      <th></th>\n",
       "      <th>MSE</th>\n",
       "      <th>RMSE</th>\n",
       "      <th>MAE</th>\n",
       "      <th>MAPE</th>\n",
       "    </tr>\n",
       "  </thead>\n",
       "  <tbody>\n",
       "    <tr>\n",
       "      <th>Values</th>\n",
       "      <td>2.653190e+14</td>\n",
       "      <td>1.628861e+07</td>\n",
       "      <td>9.165220e+06</td>\n",
       "      <td>21.53394</td>\n",
       "    </tr>\n",
       "  </tbody>\n",
       "</table>\n",
       "</div>"
      ],
      "text/plain": [
       "                 MSE          RMSE           MAE      MAPE\n",
       "Values  2.653190e+14  1.628861e+07  9.165220e+06  21.53394"
      ]
     },
     "execution_count": 52,
     "metadata": {},
     "output_type": "execute_result"
    }
   ],
   "source": [
    "#모든 변수 모델을 사용\n",
    "print('중고차 TEST MSE: ', np.mean(np.square(best_rf.predict(final_df_) - y_real)))\n",
    "print('중고차 TEST MAE: ', np.mean(np.abs(best_rf.predict(final_df_) - y_real)))\n",
    "eval_indicator(y_real , best_rf.predict(final_df_))"
   ]
  },
  {
   "cell_type": "code",
   "execution_count": 53,
   "metadata": {
    "colab": {
     "base_uri": "https://localhost:8080/",
     "height": 306
    },
    "id": "XL717Rk9iYP1",
    "outputId": "941a6bd2-52db-437f-fdda-1557a470099b"
   },
   "outputs": [
    {
     "data": {
      "text/plain": [
       "<matplotlib.collections.PathCollection at 0x200a7add048>"
      ]
     },
     "execution_count": 53,
     "metadata": {},
     "output_type": "execute_result"
    },
    {
     "data": {
      "image/png": "[encoded data removed]",
      "text/plain": [
       "<Figure size 432x288 with 1 Axes>"
      ]
     },
     "metadata": {
      "needs_background": "light"
     },
     "output_type": "display_data"
    }
   ],
   "source": [
    "plt.scatter(x=best_rf.predict(final_df_), y= y_real)"
   ]
  },
  {
   "cell_type": "code",
   "execution_count": 54,
   "metadata": {
    "colab": {
     "base_uri": "https://localhost:8080/",
     "height": 114
    },
    "id": "jX1DdETiQQTD",
    "outputId": "f668de76-f80f-4e1a-ce20-b8c9034be3e3"
   },
   "outputs": [],
   "source": [
    "#선택된 변수 모델을 사용\n",
    "#print('중고차 TEST MSE: ', np.mean(np.square(best_rf2.predict(X_test_norm_sel) - y_real)))\n",
    "#print('중고차 TEST MAE: ', np.mean(np.abs(best_rf2.predict(X_test_norm_sel) - y_real)))\n",
    "#eval_indicator(y_real , best_rf2.predict(X_test_norm_sel))\n",
    "#######################################"
   ]
  },
  {
   "cell_type": "code",
   "execution_count": 55,
   "metadata": {
    "colab": {
     "base_uri": "https://localhost:8080/",
     "height": 306
    },
    "id": "I7W-CiM6efZD",
    "outputId": "12c2f418-50e7-403f-d1d8-a82921024289",
    "scrolled": true
   },
   "outputs": [],
   "source": [
    "#plt.scatter(x=best_rf2.predict(X_test_norm_sel), y= y_real)"
   ]
  },
  {
   "cell_type": "code",
   "execution_count": 56,
   "metadata": {},
   "outputs": [
    {
     "data": {
      "text/plain": [
       "<matplotlib.collections.PathCollection at 0x200a7b759e8>"
      ]
     },
     "execution_count": 56,
     "metadata": {},
     "output_type": "execute_result"
    },
    {
     "data": {
      "image/png": "[encoded data removed]",
      "text/plain": [
       "<Figure size 432x288 with 1 Axes>"
      ]
     },
     "metadata": {
      "needs_background": "light"
     },
     "output_type": "display_data"
    }
   ],
   "source": [
    "plt.scatter(x=predicted, y= y_val)"
   ]
  },
  {
   "cell_type": "markdown",
   "metadata": {},
   "source": [
    "https://colab.research.google.com/drive/1uWw9Ot5z8tNW8lJUB6KBbMGTynOr221U?authuser=1"
   ]
  }
 ],
 "metadata": {
  "colab": {
   "collapsed_sections": [],
   "name": "ADX_P1_UsedCar_Prediction_Team1.ipynb",
   "provenance": []
  },
  "kernelspec": {
   "display_name": "Python 3",
   "language": "python",
   "name": "python3"
  },
  "language_info": {
   "codemirror_mode": {
    "name": "ipython",
    "version": 3
   },
   "file_extension": ".py",
   "mimetype": "text/x-python",
   "name": "python",
   "nbconvert_exporter": "python",
   "pygments_lexer": "ipython3",
   "version": "3.7.6"
  },
  "varInspector": {
   "cols": {
    "lenName": 16,
    "lenType": 16,
    "lenVar": 40
   },
   "kernels_config": {
    "python": {
     "delete_cmd_postfix": "",
     "delete_cmd_prefix": "del ",
     "library": "var_list.py",
     "varRefreshCmd": "print(var_dic_list())"
    },
    "r": {
     "delete_cmd_postfix": ") ",
     "delete_cmd_prefix": "rm(",
     "library": "var_list.r",
     "varRefreshCmd": "cat(var_dic_list()) "
    }
   },
   "types_to_exclude": [
    "module",
    "function",
    "builtin_function_or_method",
    "instance",
    "_Feature"
   ],
   "window_display": false
  }
 },
 "nbformat": 4,
 "nbformat_minor": 1
}
